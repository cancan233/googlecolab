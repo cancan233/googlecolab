{
 "cells": [
  {
   "cell_type": "markdown",
   "metadata": {},
   "source": [
    "## Package Installation"
   ]
  },
  {
   "cell_type": "code",
   "execution_count": null,
   "metadata": {},
   "outputs": [],
   "source": [
    "!pip3 install amp-atomistics\n",
    "!pip install ase"
   ]
  },
  {
   "cell_type": "markdown",
   "metadata": {},
   "source": [
    "## Import necessary packages and functions"
   ]
  },
  {
   "cell_type": "code",
   "execution_count": null,
   "metadata": {},
   "outputs": [],
   "source": [
    "from __future__ import print_function\n",
    "\n",
    "from ase.cluster.cubic import FaceCenteredCubic\n",
    "from ase.optimize import QuasiNewton\n",
    "from ase.md.velocitydistribution import (MaxwellBoltzmannDistribution,\n",
    "                                         Stationary, ZeroRotation)\n",
    "from ase.md.verlet import VelocityVerlet\n",
    "from ase import units\n",
    "from ase.build import molecule\n",
    "\n",
    "from ase.io import read\n"
   ]
  },
  {
   "cell_type": "markdown",
   "metadata": {},
   "source": [
    "### EMT MD calculation"
   ]
  },
  {
   "cell_type": "code",
   "execution_count": null,
   "metadata": {},
   "outputs": [],
   "source": [
    "# Set up a atom project\n",
    "atoms = molecule('H2O')\n",
    "print(atoms.get_positions())\n",
    "# Describe the interatomic interactions with the Effective Medium Theory\n",
    "atoms.set_calculator(EMT())\n",
    "\n",
    "# Do a quick relaxation of the cluster\n",
    "qn = QuasiNewton(atoms)\n",
    "qn.run(0.001, 10)\n",
    "\n",
    "# Set the momenta corresponding to T=300K\n",
    "MaxwellBoltzmannDistribution(atoms, 300* units.kB)\n",
    "Stationary(atoms)  # zero linear momentum\n",
    "ZeroRotation(atoms)  # zero angular momentum\n",
    "\n",
    "# We want to run MD using the VelocityVerlet algorithm.\n",
    "# Save trajectory:\n",
    "%rm -rf emt.traj\n",
    "dyn = VelocityVerlet(atoms, 2 * units.fs, trajectory='emt.traj')\n",
    "\n",
    "def printenergy(a=atoms):  # store a reference to atoms in the definition.\n",
    "    \"\"\"Function to print the potential, kinetic and total energy.\"\"\"\n",
    "    epot = a.get_potential_energy() / len(a)\n",
    "    ekin = a.get_kinetic_energy() / len(a)\n",
    "    print('Energy per atom: Epot = %.3feV  Ekin = %.3feV (T=%3.0fK)  '\n",
    "          'Etot = %.3feV' % (epot, ekin, ekin / (1.5 * units.kB), epot + ekin))\n",
    "\n",
    "dyn.attach(printenergy, interval=10)\n",
    "\n",
    "# Now run the dynamics\n",
    "printenergy()\n",
    "dyn.run(100)"
   ]
  },
  {
   "cell_type": "markdown",
   "metadata": {},
   "source": [
    "### AMP MD Calculation"
   ]
  },
  {
   "cell_type": "code",
   "execution_count": null,
   "metadata": {},
   "outputs": [],
   "source": [
    "# Set up a atom project\n",
    "atoms = molecule('H2O')\n",
    "print(atoms.get_positions())\n",
    "# Describe the interatomic interactions with the Effective Medium Theory\n",
    "atoms.set_calculator(EMT())\n",
    "\n",
    "# Do a quick relaxation of the cluster\n",
    "qn = QuasiNewton(atoms)\n",
    "qn.run(0.001, 10)\n",
    "\n",
    "# Set the momenta corresponding to T=300K\n",
    "MaxwellBoltzmannDistribution(atoms, 300* units.kB)\n",
    "Stationary(atoms)  # zero linear momentum\n",
    "ZeroRotation(atoms)  # zero angular momentum\n",
    "\n",
    "# We want to run MD using the VelocityVerlet algorithm.\n",
    "# Save trajectory:\n",
    "%rm -rf emt.traj\n",
    "dyn = VelocityVerlet(atoms, 2 * units.fs, trajectory='emt.traj')\n",
    "\n",
    "dyn.attach(printenergy, interval=10)\n",
    "\n",
    "# Now run the dynamics\n",
    "printenergy()\n",
    "dyn.run(100)"
   ]
  }
 ],
 "metadata": {
  "kernelspec": {
   "display_name": "Python 3",
   "language": "python",
   "name": "python3"
  },
  "language_info": {
   "codemirror_mode": {
    "name": "ipython",
    "version": 3
   },
   "file_extension": ".py",
   "mimetype": "text/x-python",
   "name": "python",
   "nbconvert_exporter": "python",
   "pygments_lexer": "ipython3",
   "version": "3.7.3"
  }
 },
 "nbformat": 4,
 "nbformat_minor": 2
}
