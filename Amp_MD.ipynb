{
  "nbformat": 4,
  "nbformat_minor": 0,
  "metadata": {
    "kernelspec": {
      "name": "python3",
      "display_name": "Python 3"
    },
    "language_info": {
      "codemirror_mode": {
        "name": "ipython",
        "version": 3
      },
      "file_extension": ".py",
      "mimetype": "text/x-python",
      "name": "python",
      "nbconvert_exporter": "python",
      "pygments_lexer": "ipython3",
      "version": "3.7.3"
    },
    "colab": {
      "name": "Amp_MD.ipynb",
      "provenance": []
    },
    "accelerator": "GPU"
  },
  "cells": [
    {
      "cell_type": "markdown",
      "metadata": {
        "id": "i7jlwn6Ve6vw",
        "colab_type": "text"
      },
      "source": [
        "## Package Installation"
      ]
    },
    {
      "cell_type": "code",
      "metadata": {
        "id": "GYYDEh8he6v7",
        "colab_type": "code",
        "outputId": "22ebe5a0-acbf-421d-b7fb-c291db0b3b65",
        "colab": {
          "base_uri": "https://localhost:8080/",
          "height": 632
        }
      },
      "source": [
        "# install ase and amp\n",
        "!pip3 install amp-atomistics\n",
        "!pip install ase\n",
        "# Install Nwchem\n",
        "!sudo apt update\n",
        "!sudo apt -y install mpi-default-bin libgfortran4 libopenblas-base \\\n",
        "libopenmpi2 libscalapack-openmpi2.0 openmpi-bin libquadmath0 \\\n",
        "libfabric1 libhwloc5 libibverbs1 libpsm-infinipath1 \\\n",
        "openmpi-common libhwloc-plugins libnl-route-3-200 \\\n",
        "ocl-icd-libopencl1  librdmacm1\n",
        "!wget https://github.com/nwchemgit/nwchem/releases/download/6.8.1-release/nwchem-data_6.8.1+133+gitge032219-2_all.ubuntu_bionic.deb\n",
        "!wget https://github.com/nwchemgit/nwchem/releases/download/6.8.1-release/nwchem_6.8.1+133+gitge032219-2_amd64.ubuntu_bionic.deb\n",
        "!sudo dpkg -i nwchem_6.8.1+133+gitge032219-2_amd64.ubuntu_bionic.deb nwchem-data_6.8.1+133+gitge032219-2_all.ubuntu_bionic.deb"
      ],
      "execution_count": 1,
      "outputs": [
        {
          "output_type": "stream",
          "text": [
            "Collecting amp-atomistics\n",
            "\u001b[?25l  Downloading https://files.pythonhosted.org/packages/25/21/b65e16734d8e726581f4d8c9c76ad900b61dfd45fe33f00418727b57326b/amp-atomistics-0.6.1.tar.gz (100kB)\n",
            "\u001b[K     |████████████████████████████████| 102kB 4.4MB/s \n",
            "\u001b[?25hRequirement already satisfied: numpy>=1.7.0 in /usr/local/lib/python3.6/dist-packages (from amp-atomistics) (1.16.5)\n",
            "Requirement already satisfied: matplotlib in /usr/local/lib/python3.6/dist-packages (from amp-atomistics) (3.0.3)\n",
            "Collecting ase (from amp-atomistics)\n",
            "\u001b[?25l  Downloading https://files.pythonhosted.org/packages/fc/cb/314601dc48d55c7c9c4f481f3099669c0f496da7c9fdddecfe74b2fdc6b2/ase-3.18.1-py3-none-any.whl (2.0MB)\n",
            "\u001b[K     |████████████████████████████████| 2.0MB 16.1MB/s \n",
            "\u001b[?25hRequirement already satisfied: pyzmq in /usr/local/lib/python3.6/dist-packages (from amp-atomistics) (17.0.0)\n",
            "Requirement already satisfied: pexpect in /usr/local/lib/python3.6/dist-packages (from amp-atomistics) (4.7.0)\n",
            "Requirement already satisfied: pyparsing!=2.0.4,!=2.1.2,!=2.1.6,>=2.0.1 in /usr/local/lib/python3.6/dist-packages (from matplotlib->amp-atomistics) (2.4.2)\n",
            "Requirement already satisfied: python-dateutil>=2.1 in /usr/local/lib/python3.6/dist-packages (from matplotlib->amp-atomistics) (2.5.3)\n",
            "Requirement already satisfied: cycler>=0.10 in /usr/local/lib/python3.6/dist-packages (from matplotlib->amp-atomistics) (0.10.0)\n",
            "Requirement already satisfied: kiwisolver>=1.0.1 in /usr/local/lib/python3.6/dist-packages (from matplotlib->amp-atomistics) (1.1.0)\n",
            "Requirement already satisfied: scipy in /usr/local/lib/python3.6/dist-packages (from ase->amp-atomistics) (1.3.1)\n",
            "Requirement already satisfied: ptyprocess>=0.5 in /usr/local/lib/python3.6/dist-packages (from pexpect->amp-atomistics) (0.6.0)\n",
            "Requirement already satisfied: six>=1.5 in /usr/local/lib/python3.6/dist-packages (from python-dateutil>=2.1->matplotlib->amp-atomistics) (1.12.0)\n",
            "Requirement already satisfied: setuptools in /usr/local/lib/python3.6/dist-packages (from kiwisolver>=1.0.1->matplotlib->amp-atomistics) (41.2.0)\n",
            "Building wheels for collected packages: amp-atomistics\n",
            "  Building wheel for amp-atomistics (setup.py) ... \u001b[?25l\u001b[?25hdone\n",
            "  Created wheel for amp-atomistics: filename=amp_atomistics-0.6.1-cp36-cp36m-linux_x86_64.whl size=396371 sha256=c43b54751cf6b51867b0e7fdac880b140624d3c400ad2f543e7d70641321a797\n",
            "  Stored in directory: /root/.cache/pip/wheels/47/d6/45/58abd238ea8c11658b0a5ab89b2921baee491e049a7c204b21\n",
            "Successfully built amp-atomistics\n",
            "Installing collected packages: ase, amp-atomistics\n",
            "Successfully installed amp-atomistics-0.6.1 ase-3.18.1\n",
            "Requirement already satisfied: ase in /usr/local/lib/python3.6/dist-packages (3.18.1)\n",
            "Requirement already satisfied: numpy in /usr/local/lib/python3.6/dist-packages (from ase) (1.16.5)\n",
            "Requirement already satisfied: matplotlib in /usr/local/lib/python3.6/dist-packages (from ase) (3.0.3)\n",
            "Requirement already satisfied: scipy in /usr/local/lib/python3.6/dist-packages (from ase) (1.3.1)\n",
            "Requirement already satisfied: kiwisolver>=1.0.1 in /usr/local/lib/python3.6/dist-packages (from matplotlib->ase) (1.1.0)\n",
            "Requirement already satisfied: pyparsing!=2.0.4,!=2.1.2,!=2.1.6,>=2.0.1 in /usr/local/lib/python3.6/dist-packages (from matplotlib->ase) (2.4.2)\n",
            "Requirement already satisfied: cycler>=0.10 in /usr/local/lib/python3.6/dist-packages (from matplotlib->ase) (0.10.0)\n",
            "Requirement already satisfied: python-dateutil>=2.1 in /usr/local/lib/python3.6/dist-packages (from matplotlib->ase) (2.5.3)\n",
            "Requirement already satisfied: setuptools in /usr/local/lib/python3.6/dist-packages (from kiwisolver>=1.0.1->matplotlib->ase) (41.2.0)\n",
            "Requirement already satisfied: six in /usr/local/lib/python3.6/dist-packages (from cycler>=0.10->matplotlib->ase) (1.12.0)\n"
          ],
          "name": "stdout"
        }
      ]
    },
    {
      "cell_type": "markdown",
      "metadata": {
        "id": "9kZazBB8e6wG",
        "colab_type": "text"
      },
      "source": [
        "## Import necessary packages and functions"
      ]
    },
    {
      "cell_type": "code",
      "metadata": {
        "id": "hiDbyTHCe6wI",
        "colab_type": "code",
        "colab": {}
      },
      "source": [
        "from __future__ import print_function\n",
        "\n",
        "from ase.cluster.cubic import FaceCenteredCubic\n",
        "from ase.optimize import QuasiNewton\n",
        "from ase.md.velocitydistribution import (MaxwellBoltzmannDistribution,\n",
        "                                         Stationary, ZeroRotation)\n",
        "from ase.md.verlet import VelocityVerlet\n",
        "from ase import units\n",
        "from ase.build import molecule\n",
        "from ase.calculators.nwchem import NWChem\n",
        "\n",
        "from ase.io import read, Trajectory\n",
        "from amp import Amp\n",
        "\n",
        "import numpy as np\n",
        "%matplotlib inline\n",
        "import matplotlib.pyplot as plt"
      ],
      "execution_count": 0,
      "outputs": []
    },
    {
      "cell_type": "markdown",
      "metadata": {
        "id": "vkcvfo89e6wa",
        "colab_type": "text"
      },
      "source": [
        "### NWChem DFT MD calculation"
      ]
    },
    {
      "cell_type": "code",
      "metadata": {
        "id": "SBmgcC6Ke6wh",
        "colab_type": "code",
        "outputId": "bff30415-606e-440b-e0a4-26138369aec7",
        "colab": {
          "base_uri": "https://localhost:8080/",
          "height": 1000
        }
      },
      "source": [
        "%%time\n",
        "# Set up a atom project\n",
        "pos = [1.1*0.969, 1.*0.969] #[r1, r2, theta]\n",
        "\n",
        "atoms = molecule('H2O')\n",
        "atoms.cell = np.array(np.diag([15, 15.1, 15.2]))\n",
        "# water.set_angle(1, 0, 2, pos[2])\n",
        "atoms.set_distance(0, 1, pos[0], fix=0)\n",
        "atoms.set_distance(0, 2, pos[1], fix=0)\n",
        "atoms.center()\n",
        "print(atoms.get_positions())\n",
        "\n",
        "# atoms.set_calculator(EMT())\n",
        "calc = NWChem(label='calc/nwchem', maxiter=2000, xc='B3LYP', basis='6-31+G**')\n",
        "atoms.set_calculator(calc)\n",
        "atoms.get_potential_energy()\n",
        "atoms.get_kinetic_energy()\n",
        "\n",
        "%rm -rf dft.traj\n",
        "traj = Trajectory('dft.traj', 'w')\n",
        "traj.write(atoms)\n",
        "\n",
        "# Do a quick relaxation of the cluster\n",
        "# qn = QuasiNewton(atoms)\n",
        "# qn.run(0.001, 10)\n",
        "\n",
        "# Set the momenta corresponding to T=300K\n",
        "MaxwellBoltzmannDistribution(atoms, 300* units.kB)\n",
        "Stationary(atoms)  # zero linear momentum\n",
        "ZeroRotation(atoms)  # zero angular momentum\n",
        "\n",
        "# We want to run MD using the VelocityVerlet algorithm.\n",
        "dyn = VelocityVerlet(atoms, 1.5 * units.fs)\n",
        "\n",
        "def printenergy(a=atoms):  # store a reference to atoms in the definition.\n",
        "    \"\"\"Function to print the potential, kinetic and total energy.\"\"\"\n",
        "    epot = a.get_potential_energy() / len(a)\n",
        "    ekin = a.get_kinetic_energy() / len(a)\n",
        "    print('Energy per atom: Epot = %.3feV  Ekin = %.3feV (T=%3.0fK)  '\n",
        "          'Etot = %.3feV' % (epot, ekin, ekin / (1.5 * units.kB), epot + ekin))\n",
        "    traj.write(a)\n",
        "\n",
        "dyn.attach(printenergy, interval=10)\n",
        "\n",
        "# Now run the dynamics\n",
        "printenergy()\n",
        "dyn.run(1000)"
      ],
      "execution_count": 35,
      "outputs": [
        {
          "output_type": "stream",
          "text": [
            "[[7.5        7.51182091 7.92811724]\n",
            " [7.5        8.35176086 7.27188276]\n",
            " [7.5        6.74823914 7.33154044]]\n",
            "Energy per atom: Epot = -693.222eV  Ekin = 0.049eV (T=381K)  Etot = -693.173eV\n",
            "Energy per atom: Epot = -693.222eV  Ekin = 0.049eV (T=381K)  Etot = -693.173eV\n",
            "Energy per atom: Epot = -693.217eV  Ekin = 0.047eV (T=367K)  Etot = -693.170eV\n",
            "Energy per atom: Epot = -693.243eV  Ekin = 0.064eV (T=494K)  Etot = -693.179eV\n",
            "Energy per atom: Epot = -693.215eV  Ekin = 0.041eV (T=314K)  Etot = -693.174eV\n",
            "Energy per atom: Epot = -693.185eV  Ekin = 0.022eV (T=171K)  Etot = -693.163eV\n",
            "Energy per atom: Epot = -693.285eV  Ekin = 0.096eV (T=740K)  Etot = -693.189eV\n",
            "Energy per atom: Epot = -693.153eV  Ekin = 0.005eV (T= 40K)  Etot = -693.148eV\n",
            "Energy per atom: Epot = -693.281eV  Ekin = 0.089eV (T=687K)  Etot = -693.192eV\n",
            "Energy per atom: Epot = -693.189eV  Ekin = 0.022eV (T=171K)  Etot = -693.167eV\n",
            "Energy per atom: Epot = -693.238eV  Ekin = 0.059eV (T=455K)  Etot = -693.179eV\n",
            "Energy per atom: Epot = -693.202eV  Ekin = 0.034eV (T=260K)  Etot = -693.168eV\n",
            "Energy per atom: Epot = -693.262eV  Ekin = 0.075eV (T=577K)  Etot = -693.187eV\n",
            "Energy per atom: Epot = -693.198eV  Ekin = 0.032eV (T=245K)  Etot = -693.166eV\n",
            "Energy per atom: Epot = -693.192eV  Ekin = 0.027eV (T=208K)  Etot = -693.165eV\n",
            "Energy per atom: Epot = -693.287eV  Ekin = 0.097eV (T=747K)  Etot = -693.190eV\n",
            "Energy per atom: Epot = -693.148eV  Ekin = 0.009eV (T= 69K)  Etot = -693.139eV\n",
            "Energy per atom: Epot = -693.270eV  Ekin = 0.090eV (T=697K)  Etot = -693.179eV\n",
            "Energy per atom: Epot = -693.183eV  Ekin = 0.019eV (T=150K)  Etot = -693.164eV\n",
            "Energy per atom: Epot = -693.255eV  Ekin = 0.074eV (T=576K)  Etot = -693.181eV\n",
            "Energy per atom: Epot = -693.182eV  Ekin = 0.026eV (T=201K)  Etot = -693.156eV\n",
            "Energy per atom: Epot = -693.264eV  Ekin = 0.085eV (T=657K)  Etot = -693.179eV\n",
            "Energy per atom: Epot = -693.180eV  Ekin = 0.022eV (T=168K)  Etot = -693.158eV\n",
            "Energy per atom: Epot = -693.206eV  Ekin = 0.038eV (T=296K)  Etot = -693.168eV\n",
            "Energy per atom: Epot = -693.272eV  Ekin = 0.073eV (T=565K)  Etot = -693.199eV\n",
            "Energy per atom: Epot = -693.190eV  Ekin = 0.025eV (T=196K)  Etot = -693.165eV\n",
            "Energy per atom: Epot = -693.248eV  Ekin = 0.071eV (T=547K)  Etot = -693.178eV\n",
            "Energy per atom: Epot = -693.195eV  Ekin = 0.025eV (T=194K)  Etot = -693.170eV\n",
            "Energy per atom: Epot = -693.259eV  Ekin = 0.069eV (T=535K)  Etot = -693.190eV\n",
            "Energy per atom: Epot = -693.187eV  Ekin = 0.026eV (T=199K)  Etot = -693.161eV\n",
            "Energy per atom: Epot = -693.267eV  Ekin = 0.085eV (T=657K)  Etot = -693.182eV\n",
            "Energy per atom: Epot = -693.183eV  Ekin = 0.012eV (T= 89K)  Etot = -693.172eV\n",
            "Energy per atom: Epot = -693.230eV  Ekin = 0.049eV (T=382K)  Etot = -693.181eV\n",
            "Energy per atom: Epot = -693.260eV  Ekin = 0.065eV (T=500K)  Etot = -693.195eV\n",
            "Energy per atom: Epot = -693.214eV  Ekin = 0.037eV (T=286K)  Etot = -693.177eV\n",
            "Energy per atom: Epot = -693.234eV  Ekin = 0.055eV (T=422K)  Etot = -693.179eV\n",
            "Energy per atom: Epot = -693.206eV  Ekin = 0.033eV (T=256K)  Etot = -693.173eV\n",
            "Energy per atom: Epot = -693.262eV  Ekin = 0.066eV (T=512K)  Etot = -693.196eV\n",
            "Energy per atom: Epot = -693.207eV  Ekin = 0.032eV (T=250K)  Etot = -693.175eV\n",
            "Energy per atom: Epot = -693.256eV  Ekin = 0.077eV (T=593K)  Etot = -693.180eV\n",
            "Energy per atom: Epot = -693.180eV  Ekin = 0.012eV (T= 93K)  Etot = -693.168eV\n",
            "Energy per atom: Epot = -693.240eV  Ekin = 0.060eV (T=466K)  Etot = -693.180eV\n",
            "Energy per atom: Epot = -693.227eV  Ekin = 0.047eV (T=367K)  Etot = -693.179eV\n",
            "Energy per atom: Epot = -693.234eV  Ekin = 0.055eV (T=423K)  Etot = -693.180eV\n",
            "Energy per atom: Epot = -693.211eV  Ekin = 0.039eV (T=300K)  Etot = -693.172eV\n",
            "Energy per atom: Epot = -693.225eV  Ekin = 0.051eV (T=393K)  Etot = -693.175eV\n",
            "Energy per atom: Epot = -693.229eV  Ekin = 0.048eV (T=374K)  Etot = -693.181eV\n",
            "Energy per atom: Epot = -693.231eV  Ekin = 0.049eV (T=377K)  Etot = -693.182eV\n",
            "Energy per atom: Epot = -693.240eV  Ekin = 0.059eV (T=456K)  Etot = -693.181eV\n",
            "Energy per atom: Epot = -693.182eV  Ekin = 0.015eV (T=117K)  Etot = -693.167eV\n",
            "Energy per atom: Epot = -693.249eV  Ekin = 0.071eV (T=550K)  Etot = -693.178eV\n",
            "Energy per atom: Epot = -693.214eV  Ekin = 0.039eV (T=299K)  Etot = -693.176eV\n",
            "Energy per atom: Epot = -693.250eV  Ekin = 0.063eV (T=487K)  Etot = -693.187eV\n",
            "Energy per atom: Epot = -693.196eV  Ekin = 0.025eV (T=193K)  Etot = -693.171eV\n",
            "Energy per atom: Epot = -693.250eV  Ekin = 0.069eV (T=534K)  Etot = -693.181eV\n",
            "Energy per atom: Epot = -693.199eV  Ekin = 0.026eV (T=203K)  Etot = -693.173eV\n",
            "Energy per atom: Epot = -693.275eV  Ekin = 0.073eV (T=567K)  Etot = -693.201eV\n",
            "Energy per atom: Epot = -693.222eV  Ekin = 0.043eV (T=334K)  Etot = -693.179eV\n",
            "Energy per atom: Epot = -693.196eV  Ekin = 0.023eV (T=178K)  Etot = -693.173eV\n",
            "Energy per atom: Epot = -693.250eV  Ekin = 0.070eV (T=538K)  Etot = -693.181eV\n",
            "Energy per atom: Epot = -693.210eV  Ekin = 0.038eV (T=292K)  Etot = -693.172eV\n",
            "Energy per atom: Epot = -693.247eV  Ekin = 0.062eV (T=480K)  Etot = -693.185eV\n",
            "Energy per atom: Epot = -693.188eV  Ekin = 0.017eV (T=130K)  Etot = -693.172eV\n",
            "Energy per atom: Epot = -693.267eV  Ekin = 0.086eV (T=669K)  Etot = -693.181eV\n",
            "Energy per atom: Epot = -693.173eV  Ekin = 0.014eV (T=111K)  Etot = -693.158eV\n",
            "Energy per atom: Epot = -693.279eV  Ekin = 0.078eV (T=606K)  Etot = -693.201eV\n",
            "Energy per atom: Epot = -693.201eV  Ekin = 0.035eV (T=268K)  Etot = -693.167eV\n",
            "Energy per atom: Epot = -693.200eV  Ekin = 0.036eV (T=277K)  Etot = -693.164eV\n",
            "Energy per atom: Epot = -693.238eV  Ekin = 0.064eV (T=494K)  Etot = -693.174eV\n",
            "Energy per atom: Epot = -693.219eV  Ekin = 0.045eV (T=351K)  Etot = -693.174eV\n",
            "Energy per atom: Epot = -693.232eV  Ekin = 0.058eV (T=447K)  Etot = -693.174eV\n",
            "Energy per atom: Epot = -693.179eV  Ekin = 0.016eV (T=128K)  Etot = -693.162eV\n",
            "Energy per atom: Epot = -693.283eV  Ekin = 0.102eV (T=791K)  Etot = -693.181eV\n",
            "Energy per atom: Epot = -693.134eV  Ekin = 0.001eV (T=  8K)  Etot = -693.133eV\n",
            "Energy per atom: Epot = -693.286eV  Ekin = 0.099eV (T=763K)  Etot = -693.188eV\n",
            "Energy per atom: Epot = -693.190eV  Ekin = 0.025eV (T=190K)  Etot = -693.166eV\n",
            "Energy per atom: Epot = -693.223eV  Ekin = 0.049eV (T=380K)  Etot = -693.174eV\n",
            "Energy per atom: Epot = -693.225eV  Ekin = 0.052eV (T=406K)  Etot = -693.173eV\n",
            "Energy per atom: Epot = -693.235eV  Ekin = 0.056eV (T=435K)  Etot = -693.179eV\n",
            "Energy per atom: Epot = -693.215eV  Ekin = 0.044eV (T=339K)  Etot = -693.171eV\n",
            "Energy per atom: Epot = -693.186eV  Ekin = 0.022eV (T=170K)  Etot = -693.164eV\n",
            "Energy per atom: Epot = -693.291eV  Ekin = 0.095eV (T=738K)  Etot = -693.196eV\n",
            "Energy per atom: Epot = -693.154eV  Ekin = 0.004eV (T= 34K)  Etot = -693.150eV\n",
            "Energy per atom: Epot = -693.276eV  Ekin = 0.088eV (T=684K)  Etot = -693.187eV\n",
            "Energy per atom: Epot = -693.190eV  Ekin = 0.023eV (T=178K)  Etot = -693.167eV\n",
            "Energy per atom: Epot = -693.237eV  Ekin = 0.055eV (T=427K)  Etot = -693.182eV\n",
            "Energy per atom: Epot = -693.207eV  Ekin = 0.042eV (T=322K)  Etot = -693.166eV\n",
            "Energy per atom: Epot = -693.252eV  Ekin = 0.069eV (T=537K)  Etot = -693.183eV\n",
            "Energy per atom: Epot = -693.199eV  Ekin = 0.033eV (T=253K)  Etot = -693.167eV\n",
            "Energy per atom: Epot = -693.194eV  Ekin = 0.027eV (T=209K)  Etot = -693.167eV\n",
            "Energy per atom: Epot = -693.289eV  Ekin = 0.095eV (T=734K)  Etot = -693.194eV\n",
            "Energy per atom: Epot = -693.166eV  Ekin = 0.017eV (T=135K)  Etot = -693.149eV\n",
            "Energy per atom: Epot = -693.256eV  Ekin = 0.078eV (T=606K)  Etot = -693.178eV\n",
            "Energy per atom: Epot = -693.191eV  Ekin = 0.027eV (T=207K)  Etot = -693.164eV\n",
            "Energy per atom: Epot = -693.249eV  Ekin = 0.066eV (T=508K)  Etot = -693.184eV\n",
            "Energy per atom: Epot = -693.201eV  Ekin = 0.037eV (T=289K)  Etot = -693.163eV\n",
            "Energy per atom: Epot = -693.256eV  Ekin = 0.080eV (T=615K)  Etot = -693.177eV\n",
            "Energy per atom: Epot = -693.179eV  Ekin = 0.020eV (T=151K)  Etot = -693.160eV\n",
            "Energy per atom: Epot = -693.224eV  Ekin = 0.048eV (T=369K)  Etot = -693.176eV\n",
            "Energy per atom: Epot = -693.256eV  Ekin = 0.060eV (T=465K)  Etot = -693.195eV\n",
            "Energy per atom: Epot = -693.210eV  Ekin = 0.039eV (T=305K)  Etot = -693.170eV\n",
            "Energy per atom: Epot = -693.235eV  Ekin = 0.057eV (T=440K)  Etot = -693.178eV\n",
            "CPU times: user 8.4 s, sys: 5.78 s, total: 14.2 s\n",
            "Wall time: 29min 26s\n"
          ],
          "name": "stdout"
        }
      ]
    },
    {
      "cell_type": "markdown",
      "metadata": {
        "id": "wuEieh20e6wp",
        "colab_type": "text"
      },
      "source": [
        "### AMP MD Calculation"
      ]
    },
    {
      "cell_type": "code",
      "metadata": {
        "id": "ZzdTh9_RoRdH",
        "colab_type": "code",
        "outputId": "e6ab3f47-c58b-4622-97d2-6938d411daf2",
        "colab": {
          "resources": {
            "http://localhost:8080/nbextensions/google.colab/files.js": {
              "data": "Ly8gQ29weXJpZ2h0IDIwMTcgR29vZ2xlIExMQwovLwovLyBMaWNlbnNlZCB1bmRlciB0aGUgQXBhY2hlIExpY2Vuc2UsIFZlcnNpb24gMi4wICh0aGUgIkxpY2Vuc2UiKTsKLy8geW91IG1heSBub3QgdXNlIHRoaXMgZmlsZSBleGNlcHQgaW4gY29tcGxpYW5jZSB3aXRoIHRoZSBMaWNlbnNlLgovLyBZb3UgbWF5IG9idGFpbiBhIGNvcHkgb2YgdGhlIExpY2Vuc2UgYXQKLy8KLy8gICAgICBodHRwOi8vd3d3LmFwYWNoZS5vcmcvbGljZW5zZXMvTElDRU5TRS0yLjAKLy8KLy8gVW5sZXNzIHJlcXVpcmVkIGJ5IGFwcGxpY2FibGUgbGF3IG9yIGFncmVlZCB0byBpbiB3cml0aW5nLCBzb2Z0d2FyZQovLyBkaXN0cmlidXRlZCB1bmRlciB0aGUgTGljZW5zZSBpcyBkaXN0cmlidXRlZCBvbiBhbiAiQVMgSVMiIEJBU0lTLAovLyBXSVRIT1VUIFdBUlJBTlRJRVMgT1IgQ09ORElUSU9OUyBPRiBBTlkgS0lORCwgZWl0aGVyIGV4cHJlc3Mgb3IgaW1wbGllZC4KLy8gU2VlIHRoZSBMaWNlbnNlIGZvciB0aGUgc3BlY2lmaWMgbGFuZ3VhZ2UgZ292ZXJuaW5nIHBlcm1pc3Npb25zIGFuZAovLyBsaW1pdGF0aW9ucyB1bmRlciB0aGUgTGljZW5zZS4KCi8qKgogKiBAZmlsZW92ZXJ2aWV3IEhlbHBlcnMgZm9yIGdvb2dsZS5jb2xhYiBQeXRob24gbW9kdWxlLgogKi8KKGZ1bmN0aW9uKHNjb3BlKSB7CmZ1bmN0aW9uIHNwYW4odGV4dCwgc3R5bGVBdHRyaWJ1dGVzID0ge30pIHsKICBjb25zdCBlbGVtZW50ID0gZG9jdW1lbnQuY3JlYXRlRWxlbWVudCgnc3BhbicpOwogIGVsZW1lbnQudGV4dENvbnRlbnQgPSB0ZXh0OwogIGZvciAoY29uc3Qga2V5IG9mIE9iamVjdC5rZXlzKHN0eWxlQXR0cmlidXRlcykpIHsKICAgIGVsZW1lbnQuc3R5bGVba2V5XSA9IHN0eWxlQXR0cmlidXRlc1trZXldOwogIH0KICByZXR1cm4gZWxlbWVudDsKfQoKLy8gTWF4IG51bWJlciBvZiBieXRlcyB3aGljaCB3aWxsIGJlIHVwbG9hZGVkIGF0IGEgdGltZS4KY29uc3QgTUFYX1BBWUxPQURfU0laRSA9IDEwMCAqIDEwMjQ7Ci8vIE1heCBhbW91bnQgb2YgdGltZSB0byBibG9jayB3YWl0aW5nIGZvciB0aGUgdXNlci4KY29uc3QgRklMRV9DSEFOR0VfVElNRU9VVF9NUyA9IDMwICogMTAwMDsKCmZ1bmN0aW9uIF91cGxvYWRGaWxlcyhpbnB1dElkLCBvdXRwdXRJZCkgewogIGNvbnN0IHN0ZXBzID0gdXBsb2FkRmlsZXNTdGVwKGlucHV0SWQsIG91dHB1dElkKTsKICBjb25zdCBvdXRwdXRFbGVtZW50ID0gZG9jdW1lbnQuZ2V0RWxlbWVudEJ5SWQob3V0cHV0SWQpOwogIC8vIENhY2hlIHN0ZXBzIG9uIHRoZSBvdXRwdXRFbGVtZW50IHRvIG1ha2UgaXQgYXZhaWxhYmxlIGZvciB0aGUgbmV4dCBjYWxsCiAgLy8gdG8gdXBsb2FkRmlsZXNDb250aW51ZSBmcm9tIFB5dGhvbi4KICBvdXRwdXRFbGVtZW50LnN0ZXBzID0gc3RlcHM7CgogIHJldHVybiBfdXBsb2FkRmlsZXNDb250aW51ZShvdXRwdXRJZCk7Cn0KCi8vIFRoaXMgaXMgcm91Z2hseSBhbiBhc3luYyBnZW5lcmF0b3IgKG5vdCBzdXBwb3J0ZWQgaW4gdGhlIGJyb3dzZXIgeWV0KSwKLy8gd2hlcmUgdGhlcmUgYXJlIG11bHRpcGxlIGFzeW5jaHJvbm91cyBzdGVwcyBhbmQgdGhlIFB5dGhvbiBzaWRlIGlzIGdvaW5nCi8vIHRvIHBvbGwgZm9yIGNvbXBsZXRpb24gb2YgZWFjaCBzdGVwLgovLyBUaGlzIHVzZXMgYSBQcm9taXNlIHRvIGJsb2NrIHRoZSBweXRob24gc2lkZSBvbiBjb21wbGV0aW9uIG9mIGVhY2ggc3RlcCwKLy8gdGhlbiBwYXNzZXMgdGhlIHJlc3VsdCBvZiB0aGUgcHJldmlvdXMgc3RlcCBhcyB0aGUgaW5wdXQgdG8gdGhlIG5leHQgc3RlcC4KZnVuY3Rpb24gX3VwbG9hZEZpbGVzQ29udGludWUob3V0cHV0SWQpIHsKICBjb25zdCBvdXRwdXRFbGVtZW50ID0gZG9jdW1lbnQuZ2V0RWxlbWVudEJ5SWQob3V0cHV0SWQpOwogIGNvbnN0IHN0ZXBzID0gb3V0cHV0RWxlbWVudC5zdGVwczsKCiAgY29uc3QgbmV4dCA9IHN0ZXBzLm5leHQob3V0cHV0RWxlbWVudC5sYXN0UHJvbWlzZVZhbHVlKTsKICByZXR1cm4gUHJvbWlzZS5yZXNvbHZlKG5leHQudmFsdWUucHJvbWlzZSkudGhlbigodmFsdWUpID0+IHsKICAgIC8vIENhY2hlIHRoZSBsYXN0IHByb21pc2UgdmFsdWUgdG8gbWFrZSBpdCBhdmFpbGFibGUgdG8gdGhlIG5leHQKICAgIC8vIHN0ZXAgb2YgdGhlIGdlbmVyYXRvci4KICAgIG91dHB1dEVsZW1lbnQubGFzdFByb21pc2VWYWx1ZSA9IHZhbHVlOwogICAgcmV0dXJuIG5leHQudmFsdWUucmVzcG9uc2U7CiAgfSk7Cn0KCi8qKgogKiBHZW5lcmF0b3IgZnVuY3Rpb24gd2hpY2ggaXMgY2FsbGVkIGJldHdlZW4gZWFjaCBhc3luYyBzdGVwIG9mIHRoZSB1cGxvYWQKICogcHJvY2Vzcy4KICogQHBhcmFtIHtzdHJpbmd9IGlucHV0SWQgRWxlbWVudCBJRCBvZiB0aGUgaW5wdXQgZmlsZSBwaWNrZXIgZWxlbWVudC4KICogQHBhcmFtIHtzdHJpbmd9IG91dHB1dElkIEVsZW1lbnQgSUQgb2YgdGhlIG91dHB1dCBkaXNwbGF5LgogKiBAcmV0dXJuIHshSXRlcmFibGU8IU9iamVjdD59IEl0ZXJhYmxlIG9mIG5leHQgc3RlcHMuCiAqLwpmdW5jdGlvbiogdXBsb2FkRmlsZXNTdGVwKGlucHV0SWQsIG91dHB1dElkKSB7CiAgY29uc3QgaW5wdXRFbGVtZW50ID0gZG9jdW1lbnQuZ2V0RWxlbWVudEJ5SWQoaW5wdXRJZCk7CiAgaW5wdXRFbGVtZW50LmRpc2FibGVkID0gZmFsc2U7CgogIGNvbnN0IG91dHB1dEVsZW1lbnQgPSBkb2N1bWVudC5nZXRFbGVtZW50QnlJZChvdXRwdXRJZCk7CiAgb3V0cHV0RWxlbWVudC5pbm5lckhUTUwgPSAnJzsKCiAgY29uc3QgcGlja2VkUHJvbWlzZSA9IG5ldyBQcm9taXNlKChyZXNvbHZlKSA9PiB7CiAgICBpbnB1dEVsZW1lbnQuYWRkRXZlbnRMaXN0ZW5lcignY2hhbmdlJywgKGUpID0+IHsKICAgICAgcmVzb2x2ZShlLnRhcmdldC5maWxlcyk7CiAgICB9KTsKICB9KTsKCiAgY29uc3QgY2FuY2VsID0gZG9jdW1lbnQuY3JlYXRlRWxlbWVudCgnYnV0dG9uJyk7CiAgaW5wdXRFbGVtZW50LnBhcmVudEVsZW1lbnQuYXBwZW5kQ2hpbGQoY2FuY2VsKTsKICBjYW5jZWwudGV4dENvbnRlbnQgPSAnQ2FuY2VsIHVwbG9hZCc7CiAgY29uc3QgY2FuY2VsUHJvbWlzZSA9IG5ldyBQcm9taXNlKChyZXNvbHZlKSA9PiB7CiAgICBjYW5jZWwub25jbGljayA9ICgpID0+IHsKICAgICAgcmVzb2x2ZShudWxsKTsKICAgIH07CiAgfSk7CgogIC8vIENhbmNlbCB1cGxvYWQgaWYgdXNlciBoYXNuJ3QgcGlja2VkIGFueXRoaW5nIGluIHRpbWVvdXQuCiAgY29uc3QgdGltZW91dFByb21pc2UgPSBuZXcgUHJvbWlzZSgocmVzb2x2ZSkgPT4gewogICAgc2V0VGltZW91dCgoKSA9PiB7CiAgICAgIHJlc29sdmUobnVsbCk7CiAgICB9LCBGSUxFX0NIQU5HRV9USU1FT1VUX01TKTsKICB9KTsKCiAgLy8gV2FpdCBmb3IgdGhlIHVzZXIgdG8gcGljayB0aGUgZmlsZXMuCiAgY29uc3QgZmlsZXMgPSB5aWVsZCB7CiAgICBwcm9taXNlOiBQcm9taXNlLnJhY2UoW3BpY2tlZFByb21pc2UsIHRpbWVvdXRQcm9taXNlLCBjYW5jZWxQcm9taXNlXSksCiAgICByZXNwb25zZTogewogICAgICBhY3Rpb246ICdzdGFydGluZycsCiAgICB9CiAgfTsKCiAgaWYgKCFmaWxlcykgewogICAgcmV0dXJuIHsKICAgICAgcmVzcG9uc2U6IHsKICAgICAgICBhY3Rpb246ICdjb21wbGV0ZScsCiAgICAgIH0KICAgIH07CiAgfQoKICBjYW5jZWwucmVtb3ZlKCk7CgogIC8vIERpc2FibGUgdGhlIGlucHV0IGVsZW1lbnQgc2luY2UgZnVydGhlciBwaWNrcyBhcmUgbm90IGFsbG93ZWQuCiAgaW5wdXRFbGVtZW50LmRpc2FibGVkID0gdHJ1ZTsKCiAgZm9yIChjb25zdCBmaWxlIG9mIGZpbGVzKSB7CiAgICBjb25zdCBsaSA9IGRvY3VtZW50LmNyZWF0ZUVsZW1lbnQoJ2xpJyk7CiAgICBsaS5hcHBlbmQoc3BhbihmaWxlLm5hbWUsIHtmb250V2VpZ2h0OiAnYm9sZCd9KSk7CiAgICBsaS5hcHBlbmQoc3BhbigKICAgICAgICBgKCR7ZmlsZS50eXBlIHx8ICduL2EnfSkgLSAke2ZpbGUuc2l6ZX0gYnl0ZXMsIGAgKwogICAgICAgIGBsYXN0IG1vZGlmaWVkOiAkewogICAgICAgICAgICBmaWxlLmxhc3RNb2RpZmllZERhdGUgPyBmaWxlLmxhc3RNb2RpZmllZERhdGUudG9Mb2NhbGVEYXRlU3RyaW5nKCkgOgogICAgICAgICAgICAgICAgICAgICAgICAgICAgICAgICAgICAnbi9hJ30gLSBgKSk7CiAgICBjb25zdCBwZXJjZW50ID0gc3BhbignMCUgZG9uZScpOwogICAgbGkuYXBwZW5kQ2hpbGQocGVyY2VudCk7CgogICAgb3V0cHV0RWxlbWVudC5hcHBlbmRDaGlsZChsaSk7CgogICAgY29uc3QgZmlsZURhdGFQcm9taXNlID0gbmV3IFByb21pc2UoKHJlc29sdmUpID0+IHsKICAgICAgY29uc3QgcmVhZGVyID0gbmV3IEZpbGVSZWFkZXIoKTsKICAgICAgcmVhZGVyLm9ubG9hZCA9IChlKSA9PiB7CiAgICAgICAgcmVzb2x2ZShlLnRhcmdldC5yZXN1bHQpOwogICAgICB9OwogICAgICByZWFkZXIucmVhZEFzQXJyYXlCdWZmZXIoZmlsZSk7CiAgICB9KTsKICAgIC8vIFdhaXQgZm9yIHRoZSBkYXRhIHRvIGJlIHJlYWR5LgogICAgbGV0IGZpbGVEYXRhID0geWllbGQgewogICAgICBwcm9taXNlOiBmaWxlRGF0YVByb21pc2UsCiAgICAgIHJlc3BvbnNlOiB7CiAgICAgICAgYWN0aW9uOiAnY29udGludWUnLAogICAgICB9CiAgICB9OwoKICAgIC8vIFVzZSBhIGNodW5rZWQgc2VuZGluZyB0byBhdm9pZCBtZXNzYWdlIHNpemUgbGltaXRzLiBTZWUgYi82MjExNTY2MC4KICAgIGxldCBwb3NpdGlvbiA9IDA7CiAgICB3aGlsZSAocG9zaXRpb24gPCBmaWxlRGF0YS5ieXRlTGVuZ3RoKSB7CiAgICAgIGNvbnN0IGxlbmd0aCA9IE1hdGgubWluKGZpbGVEYXRhLmJ5dGVMZW5ndGggLSBwb3NpdGlvbiwgTUFYX1BBWUxPQURfU0laRSk7CiAgICAgIGNvbnN0IGNodW5rID0gbmV3IFVpbnQ4QXJyYXkoZmlsZURhdGEsIHBvc2l0aW9uLCBsZW5ndGgpOwogICAgICBwb3NpdGlvbiArPSBsZW5ndGg7CgogICAgICBjb25zdCBiYXNlNjQgPSBidG9hKFN0cmluZy5mcm9tQ2hhckNvZGUuYXBwbHkobnVsbCwgY2h1bmspKTsKICAgICAgeWllbGQgewogICAgICAgIHJlc3BvbnNlOiB7CiAgICAgICAgICBhY3Rpb246ICdhcHBlbmQnLAogICAgICAgICAgZmlsZTogZmlsZS5uYW1lLAogICAgICAgICAgZGF0YTogYmFzZTY0LAogICAgICAgIH0sCiAgICAgIH07CiAgICAgIHBlcmNlbnQudGV4dENvbnRlbnQgPQogICAgICAgICAgYCR7TWF0aC5yb3VuZCgocG9zaXRpb24gLyBmaWxlRGF0YS5ieXRlTGVuZ3RoKSAqIDEwMCl9JSBkb25lYDsKICAgIH0KICB9CgogIC8vIEFsbCBkb25lLgogIHlpZWxkIHsKICAgIHJlc3BvbnNlOiB7CiAgICAgIGFjdGlvbjogJ2NvbXBsZXRlJywKICAgIH0KICB9Owp9CgpzY29wZS5nb29nbGUgPSBzY29wZS5nb29nbGUgfHwge307CnNjb3BlLmdvb2dsZS5jb2xhYiA9IHNjb3BlLmdvb2dsZS5jb2xhYiB8fCB7fTsKc2NvcGUuZ29vZ2xlLmNvbGFiLl9maWxlcyA9IHsKICBfdXBsb2FkRmlsZXMsCiAgX3VwbG9hZEZpbGVzQ29udGludWUsCn07Cn0pKHNlbGYpOwo=",
              "ok": true,
              "headers": [
                [
                  "content-type",
                  "application/javascript"
                ]
              ],
              "status": 200,
              "status_text": ""
            }
          },
          "base_uri": "https://localhost:8080/",
          "height": 111
        }
      },
      "source": [
        "from google.colab import files\n",
        "files.upload()"
      ],
      "execution_count": 52,
      "outputs": [
        {
          "output_type": "display_data",
          "data": {
            "text/html": [
              "\n",
              "     <input type=\"file\" id=\"files-155cfc61-649e-4d79-a788-b758aa487078\" name=\"files[]\" multiple disabled />\n",
              "     <output id=\"result-155cfc61-649e-4d79-a788-b758aa487078\">\n",
              "      Upload widget is only available when the cell has been executed in the\n",
              "      current browser session. Please rerun this cell to enable.\n",
              "      </output>\n",
              "      <script src=\"/nbextensions/google.colab/files.js\"></script> "
            ],
            "text/plain": [
              "<IPython.core.display.HTML object>"
            ]
          },
          "metadata": {
            "tags": []
          }
        },
        {
          "output_type": "stream",
          "text": [
            "Saving amp.amp to amp.amp\n"
          ],
          "name": "stdout"
        },
        {
          "output_type": "execute_result",
          "data": {
            "text/plain": [
              "{'amp.amp': b'dict(descriptor=\"dict(Gs={\\'H\\': [{\\'type\\': \\'G2\\', \\'element\\': \\'H\\', \\'eta\\': 0.049999999999999996}, {\\'type\\': \\'G2\\', \\'element\\': \\'O\\', \\'eta\\': 0.049999999999999996}, {\\'type\\': \\'G2\\', \\'element\\': \\'H\\', \\'eta\\': 0.2320794416806389}, {\\'type\\': \\'G2\\', \\'element\\': \\'O\\', \\'eta\\': 0.2320794416806389}, {\\'type\\': \\'G2\\', \\'element\\': \\'H\\', \\'eta\\': 1.0772173450159415}, {\\'type\\': \\'G2\\', \\'element\\': \\'O\\', \\'eta\\': 1.0772173450159415}, {\\'type\\': \\'G2\\', \\'element\\': \\'H\\', \\'eta\\': 5.000000000000001}, {\\'type\\': \\'G2\\', \\'element\\': \\'O\\', \\'eta\\': 5.000000000000001}, {\\'type\\': \\'G4\\', \\'elements\\': [\\'H\\', \\'H\\'], \\'eta\\': 0.005, \\'gamma\\': 1.0, \\'zeta\\': 1.0}, {\\'type\\': \\'G4\\', \\'elements\\': [\\'H\\', \\'O\\'], \\'eta\\': 0.005, \\'gamma\\': 1.0, \\'zeta\\': 1.0}, {\\'type\\': \\'G4\\', \\'elements\\': [\\'O\\', \\'O\\'], \\'eta\\': 0.005, \\'gamma\\': 1.0, \\'zeta\\': 1.0}, {\\'type\\': \\'G4\\', \\'elements\\': [\\'H\\', \\'H\\'], \\'eta\\': 0.005, \\'gamma\\': -1.0, \\'zeta\\': 1.0}, {\\'type\\': \\'G4\\', \\'elements\\': [\\'H\\', \\'O\\'], \\'eta\\': 0.005, \\'gamma\\': -1.0, \\'zeta\\': 1.0}, {\\'type\\': \\'G4\\', \\'elements\\': [\\'O\\', \\'O\\'], \\'eta\\': 0.005, \\'gamma\\': -1.0, \\'zeta\\': 1.0}, {\\'type\\': \\'G4\\', \\'elements\\': [\\'H\\', \\'H\\'], \\'eta\\': 0.005, \\'gamma\\': 1.0, \\'zeta\\': 4.0}, {\\'type\\': \\'G4\\', \\'elements\\': [\\'H\\', \\'O\\'], \\'eta\\': 0.005, \\'gamma\\': 1.0, \\'zeta\\': 4.0}, {\\'type\\': \\'G4\\', \\'elements\\': [\\'O\\', \\'O\\'], \\'eta\\': 0.005, \\'gamma\\': 1.0, \\'zeta\\': 4.0}, {\\'type\\': \\'G4\\', \\'elements\\': [\\'H\\', \\'H\\'], \\'eta\\': 0.005, \\'gamma\\': -1.0, \\'zeta\\': 4.0}, {\\'type\\': \\'G4\\', \\'elements\\': [\\'H\\', \\'O\\'], \\'eta\\': 0.005, \\'gamma\\': -1.0, \\'zeta\\': 4.0}, {\\'type\\': \\'G4\\', \\'elements\\': [\\'O\\', \\'O\\'], \\'eta\\': 0.005, \\'gamma\\': -1.0, \\'zeta\\': 4.0}], \\'O\\': [{\\'type\\': \\'G2\\', \\'element\\': \\'H\\', \\'eta\\': 0.049999999999999996}, {\\'type\\': \\'G2\\', \\'element\\': \\'O\\', \\'eta\\': 0.049999999999999996}, {\\'type\\': \\'G2\\', \\'element\\': \\'H\\', \\'eta\\': 0.2320794416806389}, {\\'type\\': \\'G2\\', \\'element\\': \\'O\\', \\'eta\\': 0.2320794416806389}, {\\'type\\': \\'G2\\', \\'element\\': \\'H\\', \\'eta\\': 1.0772173450159415}, {\\'type\\': \\'G2\\', \\'element\\': \\'O\\', \\'eta\\': 1.0772173450159415}, {\\'type\\': \\'G2\\', \\'element\\': \\'H\\', \\'eta\\': 5.000000000000001}, {\\'type\\': \\'G2\\', \\'element\\': \\'O\\', \\'eta\\': 5.000000000000001}, {\\'type\\': \\'G4\\', \\'elements\\': [\\'H\\', \\'H\\'], \\'eta\\': 0.005, \\'gamma\\': 1.0, \\'zeta\\': 1.0}, {\\'type\\': \\'G4\\', \\'elements\\': [\\'H\\', \\'O\\'], \\'eta\\': 0.005, \\'gamma\\': 1.0, \\'zeta\\': 1.0}, {\\'type\\': \\'G4\\', \\'elements\\': [\\'O\\', \\'O\\'], \\'eta\\': 0.005, \\'gamma\\': 1.0, \\'zeta\\': 1.0}, {\\'type\\': \\'G4\\', \\'elements\\': [\\'H\\', \\'H\\'], \\'eta\\': 0.005, \\'gamma\\': -1.0, \\'zeta\\': 1.0}, {\\'type\\': \\'G4\\', \\'elements\\': [\\'H\\', \\'O\\'], \\'eta\\': 0.005, \\'gamma\\': -1.0, \\'zeta\\': 1.0}, {\\'type\\': \\'G4\\', \\'elements\\': [\\'O\\', \\'O\\'], \\'eta\\': 0.005, \\'gamma\\': -1.0, \\'zeta\\': 1.0}, {\\'type\\': \\'G4\\', \\'elements\\': [\\'H\\', \\'H\\'], \\'eta\\': 0.005, \\'gamma\\': 1.0, \\'zeta\\': 4.0}, {\\'type\\': \\'G4\\', \\'elements\\': [\\'H\\', \\'O\\'], \\'eta\\': 0.005, \\'gamma\\': 1.0, \\'zeta\\': 4.0}, {\\'type\\': \\'G4\\', \\'elements\\': [\\'O\\', \\'O\\'], \\'eta\\': 0.005, \\'gamma\\': 1.0, \\'zeta\\': 4.0}, {\\'type\\': \\'G4\\', \\'elements\\': [\\'H\\', \\'H\\'], \\'eta\\': 0.005, \\'gamma\\': -1.0, \\'zeta\\': 4.0}, {\\'type\\': \\'G4\\', \\'elements\\': [\\'H\\', \\'O\\'], \\'eta\\': 0.005, \\'gamma\\': -1.0, \\'zeta\\': 4.0}, {\\'type\\': \\'G4\\', \\'elements\\': [\\'O\\', \\'O\\'], \\'eta\\': 0.005, \\'gamma\\': -1.0, \\'zeta\\': 4.0}]},\\\\n     cutoff={\\'name\\': \\'Cosine\\', \\'kwargs\\': {\\'Rc\\': 6.5}},\\\\n     elements=[\\'H\\', \\'O\\'],\\\\n     importname=\\'.descriptor.gaussian.Gaussian\\',\\\\n     mode=\\'atom-centered\\',\\\\n     version=\\'2015.12\\')\\\\n\",\\n     model=\"dict(activation=\\'tanh\\',\\\\n     fprange={\\'O\\': [[1.6062533145023998, 1.9107536139135488], [0.0, 0.0], [1.5818518926389924, 1.9045010244095224], [0.0, 0.0], [1.4733554105600168, 1.8757459009860586], [0.0, 0.0], [1.0594391053679997, 1.7478577290127144], [0.0, 0.0], [0.000752984585726821, 0.8352373813495653], [0.0, 0.0], [0.0, 0.0], [0.4152096758485334, 1.5199337539562507], [0.0, 0.0], [0.0, 0.0], [2.7572467215053767e-12, 0.10440467266869587], [0.0, 0.0], [0.0, 0.0], [0.05190120948106658, 1.5129164083793742], [0.0, 0.0], [0.0, 0.0]], \\'H\\': [[0.37020577156128304, 0.9121228024026482], [0.8031266572511999, 0.9553768069567744], [0.34825014037413676, 0.9061630614936053], [0.7909259463194961, 0.9522505122047612], [0.2622094666186738, 0.8790062149348357], [0.7366777052800083, 0.9378729504930293], [0.07024337097221993, 0.7632311590615775], [0.5297195526839997, 0.8739288645063572], [0.0, 0.0], [0.48833980629186374, 1.5216932833123458], [0.0, 0.0], [0.0, 0.0], [0.00014693364972844178, 0.3500978808461829], [0.0, 0.0], [0.0, 0.0], [0.30089979518444515, 1.5199342060178096], [0.0, 0.0], [0.0, 0.0], [5.391404095018783e-16, 0.008379337542090389], [0.0, 0.0]]},\\\\n     hiddenlayers={\\'O\\': (5, 5), \\'H\\': (5, 5)},\\\\n     importname=\\'.model.neuralnetwork.NeuralNetwork\\',\\\\n     mode=\\'atom-centered\\',\\\\n     scalings=OrderedDict([(\\'H\\', OrderedDict([(\\'intercept\\', -688.5777743238006), (\\'slope\\', 5.978585406062083)])), (\\'O\\', OrderedDict([(\\'intercept\\', -690.0248567656905), (\\'slope\\', 3.7992092694822026)]))]),\\\\n     version=\\'2015.12\\',\\\\n     weights=OrderedDict([(\\'H\\', OrderedDict([(1, [[-4.555066349693959, 1.526394273767912, -1.5142325896480555, -2.30473720975148, -2.858776150210825], [0.7872628377928224, 1.837237454202319, 0.864777607491769, 2.609297618425811, 1.7989254700167123], [-1.979095946093198, 0.5859338138767858, -0.6767464119136536, -1.0436792397227745, -0.11924379124378053], [0.8786284250433746, 0.9060824202652872, 0.9148093812328405, 1.3595455987565013, 0.9988055501512417], [7.7610993822454395, -2.807646547568745, 2.472631642251412, 2.9615060235729627, 8.441140741922656], [0.2941498361585606, -1.7517911799405814, 2.1186375810868747, -5.306449018801856, -3.0672818428512794], [0.21992797344257797, 0.472013482982126, 1.2223589366207235, -0.4438495628470318, -6.38161065697577], [-1.1678352997617467, -0.2625945573321855, -3.742308017617073, 1.4540532327614692, 1.2305393169430419], [0.4174329634578702, 0.40755997097866914, -0.3943697606663532, -0.32638404972772295, -0.1998377309712142], [-3.6380525666917425, -0.226577982038984, -1.5569242318138503, -1.6458774477556326, -18.4079760437562], [0.41383626233075455, 0.3834375672237026, -0.4329677654614835, 0.20383428481428545, 0.17231623421951692], [-0.3106333511210746, 0.1680003420666144, -0.0804779964235216, -0.23383730618140375, 0.20547636273422853], [0.6289244819310152, -0.04681803208408641, -1.5607112495860527, 2.0490894538114555, -0.5354009037696473], [-0.3625055336131894, -0.37633468307419, 0.2716849566326117, -0.04934286123540221, 0.21111377650372287], [0.1568548757888062, -0.23492746387978747, -0.1440124416607998, -0.3772833239648666, 0.4544498454600351], [2.4995783268540914, 0.047167456291506676, -0.6096974665179128, 3.6679399675925266, 18.85797799434125], [0.07096408404134091, 0.1467762538420676, 0.05058916818247394, -0.06922177946342534, 0.038753465098783746], [-0.4189461502044215, -0.14732311912804807, 0.1026781339621935, -0.09269614036670981, -0.36772283704083275], [-0.1712692810596656, 0.08398988112839147, 0.2889841279406306, -0.6561735897816114, 5.138011417058967], [-0.03127073114806528, -0.07233985932682208, -0.09040389987221792, -0.27400778594983877, 0.3403776267310322], [-0.6446625044273515, -0.5386578903165087, -0.150607366184562, 1.4825050015834798, -0.8982834116954764]]), (2, [[-0.20599402846094705, -5.435451587236735, -4.212275230432141, 1.7319056530649068, -1.8444800827716366], [1.0429020165575678, 0.7477320737120241, 5.23726228182495, 2.084650472580862, 0.8073596725084379], [-0.6530102339021376, 0.433084802475887, 2.310244210687839, 1.4904324691361523, -0.11965256036237415], [0.1279945696731573, -1.1903966484586272, -3.748387936712765, 1.2727841126440411, -0.5929258428814652], [0.014266299539349952, -0.013176198821449275, -2.9441940709898105, -1.7622493107417125, -0.0830535104173217], [-0.40163438052889694, -2.3788227729514664, -0.6794541959460212, -0.2654837124472755, -1.4276997016474287]]), (3, [[-0.9750423794562197], [1.3742023823156284], [-1.7479430241247318], [0.0007655314609239577], [-0.45192921939594943], [-1.0445191754374181]])])), (\\'O\\', OrderedDict([(1, [[-1.2112141971814312, -1.2144019338026155, 1.7983991715731311, 1.186239928777789, -0.4414373106448997], [0.24071135686551548, -0.06022230955200475, -0.237248144176527, 0.04647926254382395, 0.2840677578485584], [-1.0486077127451552, -1.0031981565922767, 0.9456183472633611, 1.776605412301022, -0.5691309655420802], [-0.16275694953311032, 0.13930700622606373, 0.07367406118609632, 0.314630227963667, 0.22641246479778898], [0.0710963664773852, -0.4326746422768327, -0.06995555123588361, 0.32615423080581635, 1.3617424067104256], [-0.14893365292278932, -0.3719494248041258, -0.017554415217008013, -0.26179317727258333, 0.20184367559573202], [2.825913885956499, 1.5850675392963247, -0.9388890267934835, -2.769671958232391, 0.4519578677890994], [-0.19866143768546496, -0.023000731935844898, -0.13435221494123128, 0.3560424762405474, -0.2801198534377964], [2.966068040370899, 0.3116639382485582, 1.5194519190411229, 1.068414653076365, 0.34590082144001344], [0.11031379369839889, -0.2610913476686846, 0.4414534819582103, 0.28943183897505176, -0.06182393483155724], [0.12255275616676797, 0.47247611359306996, 0.18163507280631352, 0.059864192656362, 0.2575312962927474], [-5.303202979591114, 1.8049749717390433, -2.444851439389156, -0.12290054269960994, 0.44820881266314544], [-0.17927092961953073, -0.3796112029291873, -0.28030407021010284, 0.08277428749289528, -0.14064181489889643], [0.45720991433765146, -0.05266892413345475, -0.36632768482324884, 0.26911516453508855, 0.03405039730670267], [-0.6896408414178682, 0.0767133658490235, -0.8011896341842557, -0.36128770183457304, -0.08410862082266612], [0.09573943178974242, -0.1614216331660434, -0.25356598274340747, 0.04544117344764398, 0.3266514514959854], [0.2578796787153417, -0.31058000804190367, -0.15871562817385065, 0.22059725032419364, -0.389755661813535], [5.131036347543353, -0.6377733395694258, 2.6387462075373627, 0.5786064032321987, 0.11825790234236158], [-0.2600546926626439, 0.13291673540536808, -0.4455710612426838, 0.2976084529015821, -0.1608117968008786], [-0.3331991426972004, -8.48865517610875e-05, 0.10927805076364994, -0.010921980183284663, -0.24527291908915655], [2.109600357680898, -0.9754148601728193, -0.23451877637152838, -0.9736630211652725, 0.2573949893077575]]), (2, [[1.104144018435614, 2.17089968624213, -0.07210173123129403, 1.3604542381547582, 0.017543730804168937], [1.1265807081639068, -0.916059526888476, -2.5869927980216088, -1.0656871037203872, 2.3656991663053475], [0.24057511956718752, -6.673389692130663, 0.5982742113626227, 6.014055181639758, 0.795813871214172], [1.2608805877939149, -7.287512326018026, -2.0472043646442186, -3.1120579798490353, 0.46145739933017055], [-1.371776892205822, 8.083153798120387, -0.4514540014151993, -0.8343771772712509, -1.2750580713391397], [2.6479868779116384, -9.023729362264465, -2.8561489504843984, -1.9334139871843619, 1.4292334805594893]]), (3, [[0.029567032312634398], [0.03662202474193951], [1.011020517729136], [-0.0030174049217678014], [2.4518514258161757], [1.3337106079801162]])]))]))\\\\n\")\\n'}"
            ]
          },
          "metadata": {
            "tags": []
          },
          "execution_count": 52
        }
      ]
    },
    {
      "cell_type": "code",
      "metadata": {
        "id": "WKeXTKGDpyK7",
        "colab_type": "code",
        "colab": {
          "base_uri": "https://localhost:8080/",
          "height": 119
        },
        "outputId": "4d4185b4-76f3-4877-9c72-18ab7732a133"
      },
      "source": [
        "%%time\n",
        "!rm -rf amp-* amp.traj nwchem.traj\n",
        "!ls"
      ],
      "execution_count": 48,
      "outputs": [
        {
          "output_type": "stream",
          "text": [
            "20_1e3.amp   nwchem_6.8.1+133+gitge032219-2_amd64.ubuntu_bionic.deb\n",
            "amp_md.traj  nwchem-data_6.8.1+133+gitge032219-2_all.ubuntu_bionic.deb\n",
            "calc\t     sample_data\n",
            "dft.traj\n",
            "CPU times: user 39.9 ms, sys: 18.6 ms, total: 58.5 ms\n",
            "Wall time: 1.85 s\n"
          ],
          "name": "stdout"
        }
      ]
    },
    {
      "cell_type": "code",
      "metadata": {
        "id": "77oRFAcAe6ws",
        "colab_type": "code",
        "outputId": "570dda4c-3331-4fc3-ef77-196058afe097",
        "colab": {
          "base_uri": "https://localhost:8080/",
          "height": 1000
        }
      },
      "source": [
        "%%time\n",
        "\n",
        "# Set up a atom project\n",
        "pos = [1.1*0.969, 1.*0.969] #[r1, r2, theta]\n",
        "\n",
        "atoms = molecule('H2O')\n",
        "atoms.cell = np.array(np.diag([15, 15.1, 15.2]))\n",
        "# water.set_angle(1, 0, 2, pos[2])\n",
        "atoms.set_distance(0, 1, pos[0], fix=0)\n",
        "atoms.set_distance(0, 2, pos[1], fix=0)\n",
        "atoms.center()\n",
        "\n",
        "print(atoms.get_positions())\n",
        "\n",
        "calc = Amp.load('amp.amp')\n",
        "atoms.set_calculator(calc)\n",
        "atoms.get_potential_energy()\n",
        "atoms.get_kinetic_energy()\n",
        "\n",
        "%rm -rf amp_md.traj\n",
        "traj = Trajectory('amp_md.traj', 'w')\n",
        "traj.write(atoms)\n",
        "\n",
        "# qn = QuasiNewton(atoms)\n",
        "# qn.run(0.001, 10)\n",
        "\n",
        "MaxwellBoltzmannDistribution(atoms, 300.* units.kB)\n",
        "Stationary(atoms)  # zero linear momentum\n",
        "ZeroRotation(atoms)  # zero angular momentum\n",
        "\n",
        "dyn = VelocityVerlet(atoms, 1.5 * units.fs)\n",
        "\n",
        "def printenergy(a=atoms):  # store a reference to atoms in the definition.\n",
        "    \"\"\"Function to print the potential, kinetic and total energy.\"\"\"\n",
        "    epot = a.get_potential_energy() / len(a)\n",
        "    ekin = a.get_kinetic_energy() / len(a)\n",
        "    print('Energy per atom: Epot = %.3feV  Ekin = %.3feV (T=%3.0fK)  '\n",
        "          'Etot = %.3feV' % (epot, ekin, ekin / (1.5 * units.kB), epot + ekin))\n",
        "    traj.write(a)\n",
        "dyn.attach(printenergy, interval=10)\n",
        "\n",
        "#Now run the dynamics\n",
        "printenergy()\n",
        "\n",
        "dyn.run(1000)"
      ],
      "execution_count": 53,
      "outputs": [
        {
          "output_type": "stream",
          "text": [
            "[[7.5        7.51182091 7.92811724]\n",
            " [7.5        8.35176086 7.27188276]\n",
            " [7.5        6.74823914 7.33154044]]\n",
            "Energy per atom: Epot = -693.125eV  Ekin = 0.058eV (T=448K)  Etot = -693.067eV\n",
            "Energy per atom: Epot = -693.125eV  Ekin = 0.058eV (T=448K)  Etot = -693.067eV\n",
            "Energy per atom: Epot = -693.070eV  Ekin = 0.020eV (T=154K)  Etot = -693.050eV\n",
            "Energy per atom: Epot = -693.175eV  Ekin = 0.086eV (T=664K)  Etot = -693.089eV\n",
            "Energy per atom: Epot = -693.101eV  Ekin = 0.035eV (T=270K)  Etot = -693.066eV\n",
            "Energy per atom: Epot = -693.125eV  Ekin = 0.055eV (T=422K)  Etot = -693.070eV\n",
            "Energy per atom: Epot = -693.109eV  Ekin = 0.042eV (T=329K)  Etot = -693.067eV\n",
            "Energy per atom: Epot = -693.112eV  Ekin = 0.055eV (T=427K)  Etot = -693.057eV\n",
            "Energy per atom: Epot = -693.154eV  Ekin = 0.072eV (T=555K)  Etot = -693.082eV\n",
            "Energy per atom: Epot = -693.084eV  Ekin = 0.028eV (T=220K)  Etot = -693.055eV\n",
            "Energy per atom: Epot = -693.130eV  Ekin = 0.054eV (T=421K)  Etot = -693.075eV\n",
            "Energy per atom: Epot = -693.108eV  Ekin = 0.043eV (T=331K)  Etot = -693.066eV\n",
            "Energy per atom: Epot = -693.161eV  Ekin = 0.073eV (T=567K)  Etot = -693.088eV\n",
            "Energy per atom: Epot = -693.085eV  Ekin = 0.026eV (T=199K)  Etot = -693.059eV\n",
            "Energy per atom: Epot = -693.149eV  Ekin = 0.073eV (T=569K)  Etot = -693.075eV\n",
            "Energy per atom: Epot = -693.081eV  Ekin = 0.024eV (T=183K)  Etot = -693.057eV\n",
            "Energy per atom: Epot = -693.166eV  Ekin = 0.094eV (T=727K)  Etot = -693.072eV\n",
            "Energy per atom: Epot = -693.069eV  Ekin = 0.003eV (T= 27K)  Etot = -693.065eV\n",
            "Energy per atom: Epot = -693.174eV  Ekin = 0.103eV (T=797K)  Etot = -693.071eV\n",
            "Energy per atom: Epot = -693.054eV  Ekin = 0.010eV (T= 74K)  Etot = -693.045eV\n",
            "Energy per atom: Epot = -693.162eV  Ekin = 0.092eV (T=709K)  Etot = -693.071eV\n",
            "Energy per atom: Epot = -693.076eV  Ekin = 0.017eV (T=134K)  Etot = -693.059eV\n",
            "Energy per atom: Epot = -693.162eV  Ekin = 0.081eV (T=625K)  Etot = -693.081eV\n",
            "Energy per atom: Epot = -693.101eV  Ekin = 0.033eV (T=257K)  Etot = -693.068eV\n",
            "Energy per atom: Epot = -693.132eV  Ekin = 0.062eV (T=483K)  Etot = -693.069eV\n",
            "Energy per atom: Epot = -693.065eV  Ekin = 0.018eV (T=139K)  Etot = -693.047eV\n",
            "Energy per atom: Epot = -693.177eV  Ekin = 0.092eV (T=710K)  Etot = -693.085eV\n",
            "Energy per atom: Epot = -693.096eV  Ekin = 0.037eV (T=285K)  Etot = -693.059eV\n",
            "Energy per atom: Epot = -693.122eV  Ekin = 0.054eV (T=419K)  Etot = -693.068eV\n",
            "Energy per atom: Epot = -693.112eV  Ekin = 0.047eV (T=361K)  Etot = -693.066eV\n",
            "Energy per atom: Epot = -693.105eV  Ekin = 0.049eV (T=381K)  Etot = -693.056eV\n",
            "Energy per atom: Epot = -693.165eV  Ekin = 0.082eV (T=633K)  Etot = -693.083eV\n",
            "Energy per atom: Epot = -693.074eV  Ekin = 0.024eV (T=183K)  Etot = -693.051eV\n",
            "Energy per atom: Epot = -693.132eV  Ekin = 0.058eV (T=450K)  Etot = -693.073eV\n",
            "Energy per atom: Epot = -693.105eV  Ekin = 0.037eV (T=282K)  Etot = -693.068eV\n",
            "Energy per atom: Epot = -693.165eV  Ekin = 0.078eV (T=607K)  Etot = -693.087eV\n",
            "Energy per atom: Epot = -693.080eV  Ekin = 0.020eV (T=153K)  Etot = -693.060eV\n",
            "Energy per atom: Epot = -693.158eV  Ekin = 0.083eV (T=645K)  Etot = -693.075eV\n",
            "Energy per atom: Epot = -693.064eV  Ekin = 0.012eV (T= 91K)  Etot = -693.052eV\n",
            "Energy per atom: Epot = -693.174eV  Ekin = 0.102eV (T=786K)  Etot = -693.073eV\n",
            "Energy per atom: Epot = -693.066eV  Ekin = 0.000eV (T=  1K)  Etot = -693.066eV\n",
            "Energy per atom: Epot = -693.175eV  Ekin = 0.101eV (T=784K)  Etot = -693.073eV\n",
            "Energy per atom: Epot = -693.060eV  Ekin = 0.009eV (T= 73K)  Etot = -693.051eV\n",
            "Energy per atom: Epot = -693.162eV  Ekin = 0.087eV (T=673K)  Etot = -693.075eV\n",
            "Energy per atom: Epot = -693.077eV  Ekin = 0.018eV (T=138K)  Etot = -693.059eV\n",
            "Energy per atom: Epot = -693.167eV  Ekin = 0.081eV (T=628K)  Etot = -693.086eV\n",
            "Energy per atom: Epot = -693.099eV  Ekin = 0.033eV (T=252K)  Etot = -693.066eV\n",
            "Energy per atom: Epot = -693.136eV  Ekin = 0.062eV (T=479K)  Etot = -693.074eV\n",
            "Energy per atom: Epot = -693.071eV  Ekin = 0.020eV (T=155K)  Etot = -693.051eV\n",
            "Energy per atom: Epot = -693.170eV  Ekin = 0.088eV (T=678K)  Etot = -693.083eV\n",
            "Energy per atom: Epot = -693.099eV  Ekin = 0.044eV (T=341K)  Etot = -693.055eV\n",
            "Energy per atom: Epot = -693.117eV  Ekin = 0.051eV (T=393K)  Etot = -693.066eV\n",
            "Energy per atom: Epot = -693.118eV  Ekin = 0.051eV (T=391K)  Etot = -693.067eV\n",
            "Energy per atom: Epot = -693.101eV  Ekin = 0.042eV (T=321K)  Etot = -693.059eV\n",
            "Energy per atom: Epot = -693.174eV  Ekin = 0.088eV (T=680K)  Etot = -693.086eV\n",
            "Energy per atom: Epot = -693.068eV  Ekin = 0.020eV (T=157K)  Etot = -693.048eV\n",
            "Energy per atom: Epot = -693.129eV  Ekin = 0.060eV (T=464K)  Etot = -693.069eV\n",
            "Energy per atom: Epot = -693.104eV  Ekin = 0.035eV (T=269K)  Etot = -693.070eV\n",
            "Energy per atom: Epot = -693.162eV  Ekin = 0.080eV (T=618K)  Etot = -693.082eV\n",
            "Energy per atom: Epot = -693.078eV  Ekin = 0.018eV (T=138K)  Etot = -693.060eV\n",
            "Energy per atom: Epot = -693.161eV  Ekin = 0.089eV (T=691K)  Etot = -693.072eV\n",
            "Energy per atom: Epot = -693.055eV  Ekin = 0.009eV (T= 66K)  Etot = -693.047eV\n",
            "Energy per atom: Epot = -693.176eV  Ekin = 0.105eV (T=811K)  Etot = -693.072eV\n",
            "Energy per atom: Epot = -693.067eV  Ekin = 0.002eV (T= 15K)  Etot = -693.065eV\n",
            "Energy per atom: Epot = -693.168eV  Ekin = 0.095eV (T=731K)  Etot = -693.074eV\n",
            "Energy per atom: Epot = -693.076eV  Ekin = 0.019eV (T=147K)  Etot = -693.057eV\n",
            "Energy per atom: Epot = -693.155eV  Ekin = 0.077eV (T=597K)  Etot = -693.078eV\n",
            "Energy per atom: Epot = -693.082eV  Ekin = 0.022eV (T=174K)  Etot = -693.059eV\n",
            "Energy per atom: Epot = -693.165eV  Ekin = 0.077eV (T=595K)  Etot = -693.088eV\n",
            "Energy per atom: Epot = -693.101eV  Ekin = 0.038eV (T=291K)  Etot = -693.064eV\n",
            "Energy per atom: Epot = -693.136eV  Ekin = 0.059eV (T=457K)  Etot = -693.077eV\n",
            "Energy per atom: Epot = -693.081eV  Ekin = 0.024eV (T=187K)  Etot = -693.057eV\n",
            "Energy per atom: Epot = -693.159eV  Ekin = 0.077eV (T=597K)  Etot = -693.082eV\n",
            "Energy per atom: Epot = -693.106eV  Ekin = 0.051eV (T=392K)  Etot = -693.056eV\n",
            "Energy per atom: Epot = -693.114eV  Ekin = 0.047eV (T=362K)  Etot = -693.067eV\n",
            "Energy per atom: Epot = -693.120eV  Ekin = 0.051eV (T=393K)  Etot = -693.069eV\n",
            "Energy per atom: Epot = -693.107eV  Ekin = 0.039eV (T=299K)  Etot = -693.068eV\n",
            "Energy per atom: Epot = -693.171eV  Ekin = 0.082eV (T=635K)  Etot = -693.089eV\n",
            "Energy per atom: Epot = -693.074eV  Ekin = 0.022eV (T=170K)  Etot = -693.052eV\n",
            "Energy per atom: Epot = -693.120eV  Ekin = 0.055eV (T=427K)  Etot = -693.065eV\n",
            "Energy per atom: Epot = -693.115eV  Ekin = 0.042eV (T=328K)  Etot = -693.072eV\n",
            "Energy per atom: Epot = -693.150eV  Ekin = 0.074eV (T=574K)  Etot = -693.075eV\n",
            "Energy per atom: Epot = -693.084eV  Ekin = 0.021eV (T=165K)  Etot = -693.062eV\n",
            "Energy per atom: Epot = -693.155eV  Ekin = 0.086eV (T=665K)  Etot = -693.069eV\n",
            "Energy per atom: Epot = -693.060eV  Ekin = 0.015eV (T=120K)  Etot = -693.044eV\n",
            "Energy per atom: Epot = -693.174eV  Ekin = 0.103eV (T=796K)  Etot = -693.071eV\n",
            "Energy per atom: Epot = -693.070eV  Ekin = 0.009eV (T= 69K)  Etot = -693.061eV\n",
            "Energy per atom: Epot = -693.154eV  Ekin = 0.082eV (T=632K)  Etot = -693.073eV\n",
            "Energy per atom: Epot = -693.098eV  Ekin = 0.035eV (T=269K)  Etot = -693.063eV\n",
            "Energy per atom: Epot = -693.145eV  Ekin = 0.067eV (T=517K)  Etot = -693.078eV\n",
            "Energy per atom: Epot = -693.086eV  Ekin = 0.028eV (T=217K)  Etot = -693.058eV\n",
            "Energy per atom: Epot = -693.161eV  Ekin = 0.074eV (T=571K)  Etot = -693.087eV\n",
            "Energy per atom: Epot = -693.095eV  Ekin = 0.040eV (T=308K)  Etot = -693.055eV\n",
            "Energy per atom: Epot = -693.138eV  Ekin = 0.061eV (T=472K)  Etot = -693.077eV\n",
            "Energy per atom: Epot = -693.088eV  Ekin = 0.026eV (T=199K)  Etot = -693.062eV\n",
            "Energy per atom: Epot = -693.149eV  Ekin = 0.069eV (T=531K)  Etot = -693.080eV\n",
            "Energy per atom: Epot = -693.113eV  Ekin = 0.052eV (T=406K)  Etot = -693.060eV\n",
            "Energy per atom: Epot = -693.115eV  Ekin = 0.046eV (T=354K)  Etot = -693.069eV\n",
            "Energy per atom: Epot = -693.116eV  Ekin = 0.046eV (T=356K)  Etot = -693.070eV\n",
            "Energy per atom: Epot = -693.124eV  Ekin = 0.045eV (T=350K)  Etot = -693.079eV\n",
            "Energy per atom: Epot = -693.155eV  Ekin = 0.066eV (T=512K)  Etot = -693.089eV\n",
            "Energy per atom: Epot = -693.094eV  Ekin = 0.030eV (T=228K)  Etot = -693.064eV\n",
            "CPU times: user 24.3 s, sys: 2.43 s, total: 26.7 s\n",
            "Wall time: 27.4 s\n"
          ],
          "name": "stdout"
        }
      ]
    },
    {
      "cell_type": "markdown",
      "metadata": {
        "id": "s8bG32in7VnN",
        "colab_type": "text"
      },
      "source": [
        "## Result Analysis"
      ]
    },
    {
      "cell_type": "code",
      "metadata": {
        "id": "LYMJAAdhoyQW",
        "colab_type": "code",
        "outputId": "82d988a8-cc82-44c3-ba4a-0c86de267623",
        "colab": {
          "base_uri": "https://localhost:8080/",
          "height": 68
        }
      },
      "source": [
        "amp_md = read('amp_md.traj', index=':')\n",
        "amp_positions = []\n",
        "amp_potential, amp_kinetic = [], []\n",
        "for i in range(len(amp_md)):\n",
        "    amp_positions.append(amp_md[i].get_positions())\n",
        "    amp_potential.append(amp_md[i].get_potential_energy())\n",
        "    amp_kinetic.append(amp_md[i].get_kinetic_energy())\n",
        "amp_positions = np.array(amp_positions)\n",
        "amp_potential = np.array(amp_potential)\n",
        "amp_kinetic = np.array(amp_kinetic)\n",
        "print(amp_positions.shape)\n",
        "\n",
        "dft_md = read('dft.traj', index=':')\n",
        "dft_positions = []\n",
        "dft_potential, dft_kinetic = [], []\n",
        "for i in range(len(dft_md)):\n",
        "    dft_positions.append(dft_md[i].get_positions())\n",
        "    dft_potential.append(dft_md[i].get_potential_energy())\n",
        "    dft_kinetic.append(dft_md[i].get_kinetic_energy())\n",
        "dft_positions = np.array(dft_positions)\n",
        "dft_potential = np.array(dft_potential)\n",
        "dft_kinetic = np.array(dft_kinetic)\n",
        "print(dft_positions.shape)\n",
        "rmse = np.sqrt(np.mean(np.absolute(amp_positions - dft_positions)**2))\n",
        "print(rmse)"
      ],
      "execution_count": 54,
      "outputs": [
        {
          "output_type": "stream",
          "text": [
            "(103, 3, 3)\n",
            "(103, 3, 3)\n",
            "0.05149989017552264\n"
          ],
          "name": "stdout"
        }
      ]
    },
    {
      "cell_type": "code",
      "metadata": {
        "id": "pa7HDGm1pJcF",
        "colab_type": "code",
        "outputId": "73e1ab26-0601-42ff-a983-556ac26e7e2e",
        "colab": {
          "base_uri": "https://localhost:8080/",
          "height": 287
        }
      },
      "source": [
        "%matplotlib inline\n",
        "import matplotlib.pyplot as plt\n",
        "labels = np.array([['O_x', 'O_y', 'O_z'], ['H1_x', 'H1_y', 'H1_z'], ['H2_x', 'H2_y', 'H2,z']])\n",
        "for i in range(3):\n",
        "    for j in range(3):\n",
        "      plt.scatter(dft_positions[:,i,j], amp_positions[:,i,j], label=labels[i,j])\n",
        "plt.xlabel('DFT Positions', fontsize=14)\n",
        "plt.ylabel('Amp Positions', fontsize=14)\n",
        "plt.legend()\n",
        "plt.show()"
      ],
      "execution_count": 55,
      "outputs": [
        {
          "output_type": "display_data",
          "data": {
            "image/png": "[encoded data removed]",
            "text/plain": [
              "<Figure size 432x288 with 1 Axes>"
            ]
          },
          "metadata": {
            "tags": []
          }
        }
      ]
    },
    {
      "cell_type": "code",
      "metadata": {
        "id": "NKtC1re82uu-",
        "colab_type": "code",
        "colab": {
          "base_uri": "https://localhost:8080/",
          "height": 287
        },
        "outputId": "8449be8a-1fb0-4d89-db37-4fe19751a46c"
      },
      "source": [
        "plt.figure()\n",
        "plt.plot(np.arange(len(dft_potential)), dft_potential/3, label='DFT')\n",
        "plt.plot(np.arange(len(amp_potential)), amp_potential/3, c='orange', label='Amp')\n",
        "plt.xlabel('# of Steps', fontsize=14)\n",
        "plt.ylabel('Potential Energy', fontsize=14)\n",
        "plt.legend()\n",
        "plt.show()"
      ],
      "execution_count": 56,
      "outputs": [
        {
          "output_type": "display_data",
          "data": {
            "image/png": "[encoded data removed]",
            "text/plain": [
              "<Figure size 432x288 with 1 Axes>"
            ]
          },
          "metadata": {
            "tags": []
          }
        }
      ]
    }
  ]
}