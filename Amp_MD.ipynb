{
  "nbformat": 4,
  "nbformat_minor": 0,
  "metadata": {
    "kernelspec": {
      "name": "python3",
      "display_name": "Python 3"
    },
    "language_info": {
      "codemirror_mode": {
        "name": "ipython",
        "version": 3
      },
      "file_extension": ".py",
      "mimetype": "text/x-python",
      "name": "python",
      "nbconvert_exporter": "python",
      "pygments_lexer": "ipython3",
      "version": "3.7.3"
    },
    "colab": {
      "name": "Amp_MD.ipynb",
      "provenance": []
    },
    "accelerator": "GPU"
  },
  "cells": [
    {
      "cell_type": "markdown",
      "metadata": {
        "id": "i7jlwn6Ve6vw",
        "colab_type": "text"
      },
      "source": [
        "## Package Installation"
      ]
    },
    {
      "cell_type": "code",
      "metadata": {
        "id": "GYYDEh8he6v7",
        "colab_type": "code",
        "colab": {
          "base_uri": "https://localhost:8080/",
          "height": 632
        },
        "outputId": "5ac4b7d2-fba3-4bc1-989e-f37c9d8ad1fc"
      },
      "source": [
        "!pip3 install amp-atomistics\n",
        "!pip install ase"
      ],
      "execution_count": 1,
      "outputs": [
        {
          "output_type": "stream",
          "text": [
            "Collecting amp-atomistics\n",
            "\u001b[?25l  Downloading https://files.pythonhosted.org/packages/25/21/b65e16734d8e726581f4d8c9c76ad900b61dfd45fe33f00418727b57326b/amp-atomistics-0.6.1.tar.gz (100kB)\n",
            "\u001b[K     |████████████████████████████████| 102kB 2.6MB/s \n",
            "\u001b[?25hRequirement already satisfied: numpy>=1.7.0 in /usr/local/lib/python3.6/dist-packages (from amp-atomistics) (1.16.5)\n",
            "Requirement already satisfied: matplotlib in /usr/local/lib/python3.6/dist-packages (from amp-atomistics) (3.0.3)\n",
            "Collecting ase (from amp-atomistics)\n",
            "\u001b[?25l  Downloading https://files.pythonhosted.org/packages/fc/cb/314601dc48d55c7c9c4f481f3099669c0f496da7c9fdddecfe74b2fdc6b2/ase-3.18.1-py3-none-any.whl (2.0MB)\n",
            "\u001b[K     |████████████████████████████████| 2.0MB 8.4MB/s \n",
            "\u001b[?25hRequirement already satisfied: pyzmq in /usr/local/lib/python3.6/dist-packages (from amp-atomistics) (17.0.0)\n",
            "Requirement already satisfied: pexpect in /usr/local/lib/python3.6/dist-packages (from amp-atomistics) (4.7.0)\n",
            "Requirement already satisfied: cycler>=0.10 in /usr/local/lib/python3.6/dist-packages (from matplotlib->amp-atomistics) (0.10.0)\n",
            "Requirement already satisfied: python-dateutil>=2.1 in /usr/local/lib/python3.6/dist-packages (from matplotlib->amp-atomistics) (2.5.3)\n",
            "Requirement already satisfied: pyparsing!=2.0.4,!=2.1.2,!=2.1.6,>=2.0.1 in /usr/local/lib/python3.6/dist-packages (from matplotlib->amp-atomistics) (2.4.2)\n",
            "Requirement already satisfied: kiwisolver>=1.0.1 in /usr/local/lib/python3.6/dist-packages (from matplotlib->amp-atomistics) (1.1.0)\n",
            "Requirement already satisfied: scipy in /usr/local/lib/python3.6/dist-packages (from ase->amp-atomistics) (1.3.1)\n",
            "Requirement already satisfied: ptyprocess>=0.5 in /usr/local/lib/python3.6/dist-packages (from pexpect->amp-atomistics) (0.6.0)\n",
            "Requirement already satisfied: six in /usr/local/lib/python3.6/dist-packages (from cycler>=0.10->matplotlib->amp-atomistics) (1.12.0)\n",
            "Requirement already satisfied: setuptools in /usr/local/lib/python3.6/dist-packages (from kiwisolver>=1.0.1->matplotlib->amp-atomistics) (41.2.0)\n",
            "Building wheels for collected packages: amp-atomistics\n",
            "  Building wheel for amp-atomistics (setup.py) ... \u001b[?25l\u001b[?25hdone\n",
            "  Created wheel for amp-atomistics: filename=amp_atomistics-0.6.1-cp36-cp36m-linux_x86_64.whl size=396393 sha256=21bddc96fd0c2422f057c004258882a60581f1ff0659e3a8cbd856fd8d381a89\n",
            "  Stored in directory: /root/.cache/pip/wheels/47/d6/45/58abd238ea8c11658b0a5ab89b2921baee491e049a7c204b21\n",
            "Successfully built amp-atomistics\n",
            "Installing collected packages: ase, amp-atomistics\n",
            "Successfully installed amp-atomistics-0.6.1 ase-3.18.1\n",
            "Requirement already satisfied: ase in /usr/local/lib/python3.6/dist-packages (3.18.1)\n",
            "Requirement already satisfied: matplotlib in /usr/local/lib/python3.6/dist-packages (from ase) (3.0.3)\n",
            "Requirement already satisfied: numpy in /usr/local/lib/python3.6/dist-packages (from ase) (1.16.5)\n",
            "Requirement already satisfied: scipy in /usr/local/lib/python3.6/dist-packages (from ase) (1.3.1)\n",
            "Requirement already satisfied: kiwisolver>=1.0.1 in /usr/local/lib/python3.6/dist-packages (from matplotlib->ase) (1.1.0)\n",
            "Requirement already satisfied: pyparsing!=2.0.4,!=2.1.2,!=2.1.6,>=2.0.1 in /usr/local/lib/python3.6/dist-packages (from matplotlib->ase) (2.4.2)\n",
            "Requirement already satisfied: cycler>=0.10 in /usr/local/lib/python3.6/dist-packages (from matplotlib->ase) (0.10.0)\n",
            "Requirement already satisfied: python-dateutil>=2.1 in /usr/local/lib/python3.6/dist-packages (from matplotlib->ase) (2.5.3)\n",
            "Requirement already satisfied: setuptools in /usr/local/lib/python3.6/dist-packages (from kiwisolver>=1.0.1->matplotlib->ase) (41.2.0)\n",
            "Requirement already satisfied: six in /usr/local/lib/python3.6/dist-packages (from cycler>=0.10->matplotlib->ase) (1.12.0)\n"
          ],
          "name": "stdout"
        }
      ]
    },
    {
      "cell_type": "markdown",
      "metadata": {
        "id": "9kZazBB8e6wG",
        "colab_type": "text"
      },
      "source": [
        "## Import necessary packages and functions"
      ]
    },
    {
      "cell_type": "code",
      "metadata": {
        "id": "hiDbyTHCe6wI",
        "colab_type": "code",
        "colab": {}
      },
      "source": [
        "from __future__ import print_function\n",
        "\n",
        "from ase.cluster.cubic import FaceCenteredCubic\n",
        "from ase.optimize import QuasiNewton\n",
        "from ase.md.velocitydistribution import (MaxwellBoltzmannDistribution,\n",
        "                                         Stationary, ZeroRotation)\n",
        "from ase.md.verlet import VelocityVerlet\n",
        "from ase import units\n",
        "from ase.build import molecule\n",
        "from ase.calculators.nwchem import NWChem\n",
        "from ase.calculators.emt import EMT\n",
        "\n",
        "from ase.io import read\n",
        "from amp import Amp"
      ],
      "execution_count": 0,
      "outputs": []
    },
    {
      "cell_type": "markdown",
      "metadata": {
        "id": "vkcvfo89e6wa",
        "colab_type": "text"
      },
      "source": [
        "### EMT MD calculation"
      ]
    },
    {
      "cell_type": "code",
      "metadata": {
        "id": "SBmgcC6Ke6wh",
        "colab_type": "code",
        "colab": {
          "base_uri": "https://localhost:8080/",
          "height": 425
        },
        "outputId": "80d3ec5c-f6b4-47bf-eb93-985752799752"
      },
      "source": [
        "# Set up a atom project\n",
        "atoms = molecule('H2O')\n",
        "print(atoms.get_positions())\n",
        "# Describe the interatomic interactions with the Effective Medium Theory\n",
        "# atoms.set_calculator(EMT())\n",
        "# calc = NWChem(label='calc/nwchem', maxiter=2000, xc='B3LYP', basis='6-31+G**')\n",
        "atoms.set_calculator(EMT())\n",
        "# Do a quick relaxation of the cluster\n",
        "qn = QuasiNewton(atoms)\n",
        "qn.run(0.001, 10)\n",
        "\n",
        "# Set the momenta corresponding to T=300K\n",
        "MaxwellBoltzmannDistribution(atoms, 300* units.kB)\n",
        "Stationary(atoms)  # zero linear momentum\n",
        "ZeroRotation(atoms)  # zero angular momentum\n",
        "\n",
        "# We want to run MD using the VelocityVerlet algorithm.\n",
        "# Save trajectory:\n",
        "%rm -rf emt.traj\n",
        "dyn = VelocityVerlet(atoms, 1.5 * units.fs, trajectory='emt.traj')\n",
        "\n",
        "def printenergy(a=atoms):  # store a reference to atoms in the definition.\n",
        "    \"\"\"Function to print the potential, kinetic and total energy.\"\"\"\n",
        "    epot = a.get_potential_energy() / len(a)\n",
        "    ekin = a.get_kinetic_energy() / len(a)\n",
        "    print('Energy per atom: Epot = %.3feV  Ekin = %.3feV (T=%3.0fK)  '\n",
        "          'Etot = %.3feV' % (epot, ekin, ekin / (1.5 * units.kB), epot + ekin))\n",
        "\n",
        "dyn.attach(printenergy, interval=10)\n",
        "\n",
        "# Now run the dynamics\n",
        "printenergy()\n",
        "dyn.run(100)"
      ],
      "execution_count": 3,
      "outputs": [
        {
          "output_type": "stream",
          "text": [
            "[[ 0.        0.        0.119262]\n",
            " [ 0.        0.763239 -0.477047]\n",
            " [ 0.       -0.763239 -0.477047]]\n",
            "                Step[ FC]     Time          Energy          fmax\n",
            "*Force-consistent energies used in optimization.\n",
            "BFGSLineSearch:    0[  0] 23:54:11        2.619811*       7.7384\n",
            "BFGSLineSearch:    1[  2] 23:54:11        1.879326*       0.0443\n",
            "BFGSLineSearch:    2[  4] 23:54:11        1.879251*       0.0273\n",
            "BFGSLineSearch:    3[  7] 23:54:11        1.878910*       0.0344\n",
            "BFGSLineSearch:    4[  8] 23:54:11        1.878887*       0.0070\n",
            "BFGSLineSearch:    5[  9] 23:54:11        1.878884*       0.0003\n",
            "Energy per atom: Epot = 0.626eV  Ekin = 0.054eV (T=420K)  Etot = 0.681eV\n",
            "Energy per atom: Epot = 0.626eV  Ekin = 0.054eV (T=420K)  Etot = 0.681eV\n",
            "Energy per atom: Epot = 0.653eV  Ekin = 0.034eV (T=263K)  Etot = 0.687eV\n",
            "Energy per atom: Epot = 0.662eV  Ekin = 0.025eV (T=190K)  Etot = 0.686eV\n",
            "Energy per atom: Epot = 0.687eV  Ekin = 0.004eV (T= 31K)  Etot = 0.691eV\n",
            "Energy per atom: Epot = 0.691eV  Ekin = 0.003eV (T= 26K)  Etot = 0.694eV\n",
            "Energy per atom: Epot = 0.674eV  Ekin = 0.016eV (T=122K)  Etot = 0.689eV\n",
            "Energy per atom: Epot = 0.632eV  Ekin = 0.048eV (T=375K)  Etot = 0.681eV\n",
            "Energy per atom: Epot = 0.628eV  Ekin = 0.053eV (T=409K)  Etot = 0.681eV\n",
            "Energy per atom: Epot = 0.666eV  Ekin = 0.022eV (T=173K)  Etot = 0.688eV\n",
            "Energy per atom: Epot = 0.690eV  Ekin = 0.004eV (T= 28K)  Etot = 0.693eV\n",
            "Energy per atom: Epot = 0.679eV  Ekin = 0.011eV (T= 85K)  Etot = 0.690eV\n"
          ],
          "name": "stdout"
        },
        {
          "output_type": "execute_result",
          "data": {
            "text/plain": [
              "True"
            ]
          },
          "metadata": {
            "tags": []
          },
          "execution_count": 3
        }
      ]
    },
    {
      "cell_type": "markdown",
      "metadata": {
        "id": "wuEieh20e6wp",
        "colab_type": "text"
      },
      "source": [
        "### AMP MD Calculation"
      ]
    },
    {
      "cell_type": "code",
      "metadata": {
        "id": "ZzdTh9_RoRdH",
        "colab_type": "code",
        "colab": {
          "resources": {
            "http://localhost:8080/nbextensions/google.colab/files.js": {
              "data": "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",
              "ok": true,
              "headers": [
                [
                  "content-type",
                  "application/javascript"
                ]
              ],
              "status": 200,
              "status_text": ""
            }
          },
          "base_uri": "https://localhost:8080/",
          "height": 111
        },
        "outputId": "2217251f-78d2-4ec6-cb0c-c92ab8c248a6"
      },
      "source": [
        "from google.colab import files\n",
        "files.upload()"
      ],
      "execution_count": 5,
      "outputs": [
        {
          "output_type": "display_data",
          "data": {
            "text/html": [
              "\n",
              "     <input type=\"file\" id=\"files-05c79fb9-7999-4b46-9b99-5acf7afd40cd\" name=\"files[]\" multiple disabled />\n",
              "     <output id=\"result-05c79fb9-7999-4b46-9b99-5acf7afd40cd\">\n",
              "      Upload widget is only available when the cell has been executed in the\n",
              "      current browser session. Please rerun this cell to enable.\n",
              "      </output>\n",
              "      <script src=\"/nbextensions/google.colab/files.js\"></script> "
            ],
            "text/plain": [
              "<IPython.core.display.HTML object>"
            ]
          },
          "metadata": {
            "tags": []
          }
        },
        {
          "output_type": "stream",
          "text": [
            "Saving amp.amp to amp.amp\n"
          ],
          "name": "stdout"
        },
        {
          "output_type": "execute_result",
          "data": {
            "text/plain": [
              "{'amp.amp': b'dict(descriptor=\"dict(Gs={\\'H\\': [{\\'type\\': \\'G2\\', \\'element\\': \\'H\\', \\'eta\\': 0.049999999999999996}, {\\'type\\': \\'G2\\', \\'element\\': \\'O\\', \\'eta\\': 0.049999999999999996}, {\\'type\\': \\'G2\\', \\'element\\': \\'H\\', \\'eta\\': 0.2320794416806389}, {\\'type\\': \\'G2\\', \\'element\\': \\'O\\', \\'eta\\': 0.2320794416806389}, {\\'type\\': \\'G2\\', \\'element\\': \\'H\\', \\'eta\\': 1.0772173450159415}, {\\'type\\': \\'G2\\', \\'element\\': \\'O\\', \\'eta\\': 1.0772173450159415}, {\\'type\\': \\'G2\\', \\'element\\': \\'H\\', \\'eta\\': 5.000000000000001}, {\\'type\\': \\'G2\\', \\'element\\': \\'O\\', \\'eta\\': 5.000000000000001}, {\\'type\\': \\'G4\\', \\'elements\\': [\\'H\\', \\'H\\'], \\'eta\\': 0.005, \\'gamma\\': 1.0, \\'zeta\\': 1.0}, {\\'type\\': \\'G4\\', \\'elements\\': [\\'H\\', \\'O\\'], \\'eta\\': 0.005, \\'gamma\\': 1.0, \\'zeta\\': 1.0}, {\\'type\\': \\'G4\\', \\'elements\\': [\\'O\\', \\'O\\'], \\'eta\\': 0.005, \\'gamma\\': 1.0, \\'zeta\\': 1.0}, {\\'type\\': \\'G4\\', \\'elements\\': [\\'H\\', \\'H\\'], \\'eta\\': 0.005, \\'gamma\\': -1.0, \\'zeta\\': 1.0}, {\\'type\\': \\'G4\\', \\'elements\\': [\\'H\\', \\'O\\'], \\'eta\\': 0.005, \\'gamma\\': -1.0, \\'zeta\\': 1.0}, {\\'type\\': \\'G4\\', \\'elements\\': [\\'O\\', \\'O\\'], \\'eta\\': 0.005, \\'gamma\\': -1.0, \\'zeta\\': 1.0}, {\\'type\\': \\'G4\\', \\'elements\\': [\\'H\\', \\'H\\'], \\'eta\\': 0.005, \\'gamma\\': 1.0, \\'zeta\\': 4.0}, {\\'type\\': \\'G4\\', \\'elements\\': [\\'H\\', \\'O\\'], \\'eta\\': 0.005, \\'gamma\\': 1.0, \\'zeta\\': 4.0}, {\\'type\\': \\'G4\\', \\'elements\\': [\\'O\\', \\'O\\'], \\'eta\\': 0.005, \\'gamma\\': 1.0, \\'zeta\\': 4.0}, {\\'type\\': \\'G4\\', \\'elements\\': [\\'H\\', \\'H\\'], \\'eta\\': 0.005, \\'gamma\\': -1.0, \\'zeta\\': 4.0}, {\\'type\\': \\'G4\\', \\'elements\\': [\\'H\\', \\'O\\'], \\'eta\\': 0.005, \\'gamma\\': -1.0, \\'zeta\\': 4.0}, {\\'type\\': \\'G4\\', \\'elements\\': [\\'O\\', \\'O\\'], \\'eta\\': 0.005, \\'gamma\\': -1.0, \\'zeta\\': 4.0}], \\'O\\': [{\\'type\\': \\'G2\\', \\'element\\': \\'H\\', \\'eta\\': 0.049999999999999996}, {\\'type\\': \\'G2\\', \\'element\\': \\'O\\', \\'eta\\': 0.049999999999999996}, {\\'type\\': \\'G2\\', \\'element\\': \\'H\\', \\'eta\\': 0.2320794416806389}, {\\'type\\': \\'G2\\', \\'element\\': \\'O\\', \\'eta\\': 0.2320794416806389}, {\\'type\\': \\'G2\\', \\'element\\': \\'H\\', \\'eta\\': 1.0772173450159415}, {\\'type\\': \\'G2\\', \\'element\\': \\'O\\', \\'eta\\': 1.0772173450159415}, {\\'type\\': \\'G2\\', \\'element\\': \\'H\\', \\'eta\\': 5.000000000000001}, {\\'type\\': \\'G2\\', \\'element\\': \\'O\\', \\'eta\\': 5.000000000000001}, {\\'type\\': \\'G4\\', \\'elements\\': [\\'H\\', \\'H\\'], \\'eta\\': 0.005, \\'gamma\\': 1.0, \\'zeta\\': 1.0}, {\\'type\\': \\'G4\\', \\'elements\\': [\\'H\\', \\'O\\'], \\'eta\\': 0.005, \\'gamma\\': 1.0, \\'zeta\\': 1.0}, {\\'type\\': \\'G4\\', \\'elements\\': [\\'O\\', \\'O\\'], \\'eta\\': 0.005, \\'gamma\\': 1.0, \\'zeta\\': 1.0}, {\\'type\\': \\'G4\\', \\'elements\\': [\\'H\\', \\'H\\'], \\'eta\\': 0.005, \\'gamma\\': -1.0, \\'zeta\\': 1.0}, {\\'type\\': \\'G4\\', \\'elements\\': [\\'H\\', \\'O\\'], \\'eta\\': 0.005, \\'gamma\\': -1.0, \\'zeta\\': 1.0}, {\\'type\\': \\'G4\\', \\'elements\\': [\\'O\\', \\'O\\'], \\'eta\\': 0.005, \\'gamma\\': -1.0, \\'zeta\\': 1.0}, {\\'type\\': \\'G4\\', \\'elements\\': [\\'H\\', \\'H\\'], \\'eta\\': 0.005, \\'gamma\\': 1.0, \\'zeta\\': 4.0}, {\\'type\\': \\'G4\\', \\'elements\\': [\\'H\\', \\'O\\'], \\'eta\\': 0.005, \\'gamma\\': 1.0, \\'zeta\\': 4.0}, {\\'type\\': \\'G4\\', \\'elements\\': [\\'O\\', \\'O\\'], \\'eta\\': 0.005, \\'gamma\\': 1.0, \\'zeta\\': 4.0}, {\\'type\\': \\'G4\\', \\'elements\\': [\\'H\\', \\'H\\'], \\'eta\\': 0.005, \\'gamma\\': -1.0, \\'zeta\\': 4.0}, {\\'type\\': \\'G4\\', \\'elements\\': [\\'H\\', \\'O\\'], \\'eta\\': 0.005, \\'gamma\\': -1.0, \\'zeta\\': 4.0}, {\\'type\\': \\'G4\\', \\'elements\\': [\\'O\\', \\'O\\'], \\'eta\\': 0.005, \\'gamma\\': -1.0, \\'zeta\\': 4.0}]},\\\\n     cutoff={\\'name\\': \\'Cosine\\', \\'kwargs\\': {\\'Rc\\': 6.5}},\\\\n     elements=[\\'H\\', \\'O\\'],\\\\n     importname=\\'.descriptor.gaussian.Gaussian\\',\\\\n     mode=\\'atom-centered\\',\\\\n     version=\\'2015.12\\')\\\\n\",\\n     model=\"dict(activation=\\'tanh\\',\\\\n     fprange={\\'O\\': [[1.6062533145023998, 1.9107536139135488], [0.0, 0.0], [1.5818518926389924, 1.9045010244095224], [0.0, 0.0], [1.4733554105600168, 1.8757459009860586], [0.0, 0.0], [1.0594391053679997, 1.7478577290127144], [0.0, 0.0], [0.000752984585726821, 0.8352373813495653], [0.0, 0.0], [0.0, 0.0], [0.4152096758485334, 1.5199337539562507], [0.0, 0.0], [0.0, 0.0], [2.7572467215053767e-12, 0.10440467266869587], [0.0, 0.0], [0.0, 0.0], [0.05190120948106658, 1.5129164083793742], [0.0, 0.0], [0.0, 0.0]], \\'H\\': [[0.37020577156128304, 0.9121228024026482], [0.8031266572511999, 0.9553768069567744], [0.34825014037413676, 0.9061630614936053], [0.7909259463194961, 0.9522505122047612], [0.2622094666186738, 0.8790062149348357], [0.7366777052800083, 0.9378729504930293], [0.07024337097221993, 0.7632311590615775], [0.5297195526839997, 0.8739288645063572], [0.0, 0.0], [0.48833980629186374, 1.5216932833123458], [0.0, 0.0], [0.0, 0.0], [0.00014693364972844178, 0.3500978808461829], [0.0, 0.0], [0.0, 0.0], [0.30089979518444515, 1.5199342060178096], [0.0, 0.0], [0.0, 0.0], [5.391404095018783e-16, 0.008379337542090389], [0.0, 0.0]]},\\\\n     hiddenlayers={\\'O\\': (5, 5), \\'H\\': (5, 5)},\\\\n     importname=\\'.model.neuralnetwork.NeuralNetwork\\',\\\\n     mode=\\'atom-centered\\',\\\\n     scalings=OrderedDict([(\\'H\\', OrderedDict([(\\'intercept\\', -688.5777743238006), (\\'slope\\', 5.978585406062083)])), (\\'O\\', OrderedDict([(\\'intercept\\', -690.0248567656905), (\\'slope\\', 3.7992092694822026)]))]),\\\\n     version=\\'2015.12\\',\\\\n     weights=OrderedDict([(\\'H\\', OrderedDict([(1, [[-4.555066349693959, 1.526394273767912, -1.5142325896480555, -2.30473720975148, -2.858776150210825], [0.7872628377928224, 1.837237454202319, 0.864777607491769, 2.609297618425811, 1.7989254700167123], [-1.979095946093198, 0.5859338138767858, -0.6767464119136536, -1.0436792397227745, -0.11924379124378053], [0.8786284250433746, 0.9060824202652872, 0.9148093812328405, 1.3595455987565013, 0.9988055501512417], [7.7610993822454395, -2.807646547568745, 2.472631642251412, 2.9615060235729627, 8.441140741922656], [0.2941498361585606, -1.7517911799405814, 2.1186375810868747, -5.306449018801856, -3.0672818428512794], [0.21992797344257797, 0.472013482982126, 1.2223589366207235, -0.4438495628470318, -6.38161065697577], [-1.1678352997617467, -0.2625945573321855, -3.742308017617073, 1.4540532327614692, 1.2305393169430419], [0.4174329634578702, 0.40755997097866914, -0.3943697606663532, -0.32638404972772295, -0.1998377309712142], [-3.6380525666917425, -0.226577982038984, -1.5569242318138503, -1.6458774477556326, -18.4079760437562], [0.41383626233075455, 0.3834375672237026, -0.4329677654614835, 0.20383428481428545, 0.17231623421951692], [-0.3106333511210746, 0.1680003420666144, -0.0804779964235216, -0.23383730618140375, 0.20547636273422853], [0.6289244819310152, -0.04681803208408641, -1.5607112495860527, 2.0490894538114555, -0.5354009037696473], [-0.3625055336131894, -0.37633468307419, 0.2716849566326117, -0.04934286123540221, 0.21111377650372287], [0.1568548757888062, -0.23492746387978747, -0.1440124416607998, -0.3772833239648666, 0.4544498454600351], [2.4995783268540914, 0.047167456291506676, -0.6096974665179128, 3.6679399675925266, 18.85797799434125], [0.07096408404134091, 0.1467762538420676, 0.05058916818247394, -0.06922177946342534, 0.038753465098783746], [-0.4189461502044215, -0.14732311912804807, 0.1026781339621935, -0.09269614036670981, -0.36772283704083275], [-0.1712692810596656, 0.08398988112839147, 0.2889841279406306, -0.6561735897816114, 5.138011417058967], [-0.03127073114806528, -0.07233985932682208, -0.09040389987221792, -0.27400778594983877, 0.3403776267310322], [-0.6446625044273515, -0.5386578903165087, -0.150607366184562, 1.4825050015834798, -0.8982834116954764]]), (2, [[-0.20599402846094705, -5.435451587236735, -4.212275230432141, 1.7319056530649068, -1.8444800827716366], [1.0429020165575678, 0.7477320737120241, 5.23726228182495, 2.084650472580862, 0.8073596725084379], [-0.6530102339021376, 0.433084802475887, 2.310244210687839, 1.4904324691361523, -0.11965256036237415], [0.1279945696731573, -1.1903966484586272, -3.748387936712765, 1.2727841126440411, -0.5929258428814652], [0.014266299539349952, -0.013176198821449275, -2.9441940709898105, -1.7622493107417125, -0.0830535104173217], [-0.40163438052889694, -2.3788227729514664, -0.6794541959460212, -0.2654837124472755, -1.4276997016474287]]), (3, [[-0.9750423794562197], [1.3742023823156284], [-1.7479430241247318], [0.0007655314609239577], [-0.45192921939594943], [-1.0445191754374181]])])), (\\'O\\', OrderedDict([(1, [[-1.2112141971814312, -1.2144019338026155, 1.7983991715731311, 1.186239928777789, -0.4414373106448997], [0.24071135686551548, -0.06022230955200475, -0.237248144176527, 0.04647926254382395, 0.2840677578485584], [-1.0486077127451552, -1.0031981565922767, 0.9456183472633611, 1.776605412301022, -0.5691309655420802], [-0.16275694953311032, 0.13930700622606373, 0.07367406118609632, 0.314630227963667, 0.22641246479778898], [0.0710963664773852, -0.4326746422768327, -0.06995555123588361, 0.32615423080581635, 1.3617424067104256], [-0.14893365292278932, -0.3719494248041258, -0.017554415217008013, -0.26179317727258333, 0.20184367559573202], [2.825913885956499, 1.5850675392963247, -0.9388890267934835, -2.769671958232391, 0.4519578677890994], [-0.19866143768546496, -0.023000731935844898, -0.13435221494123128, 0.3560424762405474, -0.2801198534377964], [2.966068040370899, 0.3116639382485582, 1.5194519190411229, 1.068414653076365, 0.34590082144001344], [0.11031379369839889, -0.2610913476686846, 0.4414534819582103, 0.28943183897505176, -0.06182393483155724], [0.12255275616676797, 0.47247611359306996, 0.18163507280631352, 0.059864192656362, 0.2575312962927474], [-5.303202979591114, 1.8049749717390433, -2.444851439389156, -0.12290054269960994, 0.44820881266314544], [-0.17927092961953073, -0.3796112029291873, -0.28030407021010284, 0.08277428749289528, -0.14064181489889643], [0.45720991433765146, -0.05266892413345475, -0.36632768482324884, 0.26911516453508855, 0.03405039730670267], [-0.6896408414178682, 0.0767133658490235, -0.8011896341842557, -0.36128770183457304, -0.08410862082266612], [0.09573943178974242, -0.1614216331660434, -0.25356598274340747, 0.04544117344764398, 0.3266514514959854], [0.2578796787153417, -0.31058000804190367, -0.15871562817385065, 0.22059725032419364, -0.389755661813535], [5.131036347543353, -0.6377733395694258, 2.6387462075373627, 0.5786064032321987, 0.11825790234236158], [-0.2600546926626439, 0.13291673540536808, -0.4455710612426838, 0.2976084529015821, -0.1608117968008786], [-0.3331991426972004, -8.48865517610875e-05, 0.10927805076364994, -0.010921980183284663, -0.24527291908915655], [2.109600357680898, -0.9754148601728193, -0.23451877637152838, -0.9736630211652725, 0.2573949893077575]]), (2, [[1.104144018435614, 2.17089968624213, -0.07210173123129403, 1.3604542381547582, 0.017543730804168937], [1.1265807081639068, -0.916059526888476, -2.5869927980216088, -1.0656871037203872, 2.3656991663053475], [0.24057511956718752, -6.673389692130663, 0.5982742113626227, 6.014055181639758, 0.795813871214172], [1.2608805877939149, -7.287512326018026, -2.0472043646442186, -3.1120579798490353, 0.46145739933017055], [-1.371776892205822, 8.083153798120387, -0.4514540014151993, -0.8343771772712509, -1.2750580713391397], [2.6479868779116384, -9.023729362264465, -2.8561489504843984, -1.9334139871843619, 1.4292334805594893]]), (3, [[0.029567032312634398], [0.03662202474193951], [1.011020517729136], [-0.0030174049217678014], [2.4518514258161757], [1.3337106079801162]])]))]))\\\\n\")\\n'}"
            ]
          },
          "metadata": {
            "tags": []
          },
          "execution_count": 5
        }
      ]
    },
    {
      "cell_type": "code",
      "metadata": {
        "id": "WKeXTKGDpyK7",
        "colab_type": "code",
        "colab": {}
      },
      "source": [
        "!rm -rf amp-* amp.traj nwchem.traj"
      ],
      "execution_count": 0,
      "outputs": []
    },
    {
      "cell_type": "code",
      "metadata": {
        "id": "77oRFAcAe6ws",
        "colab_type": "code",
        "colab": {
          "base_uri": "https://localhost:8080/",
          "height": 1000
        },
        "outputId": "fea17892-498d-4e49-c618-62f9335cf0bb"
      },
      "source": [
        "# Set up a atom project\n",
        "atoms = molecule('H2O')\n",
        "print(atoms.get_positions())\n",
        "# Describe the interatomic interactions with the Effective Medium Theory\n",
        "calc = Amp.load('amp.amp')\n",
        "atoms.set_calculator(calc)\n",
        "\n",
        "# Do a quick relaxation of the cluster\n",
        "qn = QuasiNewton(atoms)\n",
        "qn.run(0.001, 10)\n",
        "\n",
        "# Set the momenta corresponding to T=300K\n",
        "MaxwellBoltzmannDistribution(atoms, 300.* units.kB)\n",
        "Stationary(atoms)  # zero linear momentum\n",
        "ZeroRotation(atoms)  # zero angular momentum\n",
        "\n",
        "# We want to run MD using the VelocityVerlet algorithm.\n",
        "# Save trajectory:\n",
        "%rm -rf amp.traj\n",
        "dyn = VelocityVerlet(atoms, 1.5 * units.fs, trajectory='amp.traj')\n",
        "def printenergy(a=atoms):  # store a reference to atoms in the definition.\n",
        "    \"\"\"Function to print the potential, kinetic and total energy.\"\"\"\n",
        "    epot = a.get_potential_energy() / len(a)\n",
        "    ekin = a.get_kinetic_energy() / len(a)\n",
        "    print('Energy per atom: Epot = %.3feV  Ekin = %.3feV (T=%3.0fK)  '\n",
        "          'Etot = %.3feV' % (epot, ekin, ekin / (1.5 * units.kB), epot + ekin))\n",
        "dyn.attach(printenergy, interval=1)\n",
        "\n",
        "# Now run the dynamics\n",
        "printenergy()\n",
        "dyn.run(100)"
      ],
      "execution_count": 14,
      "outputs": [
        {
          "output_type": "stream",
          "text": [
            "[[ 0.        0.        0.119262]\n",
            " [ 0.        0.763239 -0.477047]\n",
            " [ 0.       -0.763239 -0.477047]]\n",
            "                Step[ FC]     Time          Energy          fmax\n",
            "BFGSLineSearch:    0[  0] 23:57:07    -2079.558378        0.1599\n",
            "BFGSLineSearch:    1[  1] 23:57:07    -2079.560560        0.1833\n",
            "BFGSLineSearch:    2[  3] 23:57:07    -2079.560816        0.0574\n",
            "BFGSLineSearch:    3[  4] 23:57:07    -2079.561067        0.0249\n",
            "BFGSLineSearch:    4[  5] 23:57:07    -2079.561130        0.0005\n",
            "Energy per atom: Epot = -693.187eV  Ekin = 0.073eV (T=562K)  Etot = -693.114eV\n",
            "Energy per atom: Epot = -693.187eV  Ekin = 0.073eV (T=562K)  Etot = -693.114eV\n",
            "Energy per atom: Epot = -693.161eV  Ekin = 0.050eV (T=390K)  Etot = -693.110eV\n",
            "Energy per atom: Epot = -693.135eV  Ekin = 0.026eV (T=201K)  Etot = -693.109eV\n",
            "Energy per atom: Epot = -693.124eV  Ekin = 0.013eV (T=100K)  Etot = -693.112eV\n",
            "Energy per atom: Epot = -693.111eV  Ekin = 0.004eV (T= 34K)  Etot = -693.106eV\n",
            "Energy per atom: Epot = -693.148eV  Ekin = 0.036eV (T=275K)  Etot = -693.113eV\n",
            "Energy per atom: Epot = -693.168eV  Ekin = 0.056eV (T=437K)  Etot = -693.111eV\n",
            "Energy per atom: Epot = -693.173eV  Ekin = 0.062eV (T=478K)  Etot = -693.111eV\n",
            "Energy per atom: Epot = -693.168eV  Ekin = 0.055eV (T=427K)  Etot = -693.113eV\n",
            "Energy per atom: Epot = -693.134eV  Ekin = 0.024eV (T=184K)  Etot = -693.110eV\n",
            "Energy per atom: Epot = -693.114eV  Ekin = 0.006eV (T= 43K)  Etot = -693.108eV\n",
            "Energy per atom: Epot = -693.129eV  Ekin = 0.018eV (T=137K)  Etot = -693.111eV\n",
            "Energy per atom: Epot = -693.147eV  Ekin = 0.036eV (T=280K)  Etot = -693.110eV\n",
            "Energy per atom: Epot = -693.172eV  Ekin = 0.060eV (T=462K)  Etot = -693.112eV\n",
            "Energy per atom: Epot = -693.178eV  Ekin = 0.064eV (T=498K)  Etot = -693.113eV\n",
            "Energy per atom: Epot = -693.151eV  Ekin = 0.041eV (T=319K)  Etot = -693.110eV\n",
            "Energy per atom: Epot = -693.135eV  Ekin = 0.023eV (T=180K)  Etot = -693.112eV\n",
            "Energy per atom: Epot = -693.115eV  Ekin = 0.006eV (T= 47K)  Etot = -693.109eV\n",
            "Energy per atom: Epot = -693.124eV  Ekin = 0.014eV (T=111K)  Etot = -693.110eV\n",
            "Energy per atom: Epot = -693.157eV  Ekin = 0.044eV (T=343K)  Etot = -693.113eV\n",
            "Energy per atom: Epot = -693.167eV  Ekin = 0.056eV (T=435K)  Etot = -693.111eV\n",
            "Energy per atom: Epot = -693.176eV  Ekin = 0.064eV (T=495K)  Etot = -693.112eV\n",
            "Energy per atom: Epot = -693.162eV  Ekin = 0.048eV (T=373K)  Etot = -693.114eV\n",
            "Energy per atom: Epot = -693.117eV  Ekin = 0.011eV (T= 83K)  Etot = -693.107eV\n",
            "Energy per atom: Epot = -693.119eV  Ekin = 0.009eV (T= 66K)  Etot = -693.111eV\n",
            "Energy per atom: Epot = -693.131eV  Ekin = 0.021eV (T=163K)  Etot = -693.110eV\n",
            "Energy per atom: Epot = -693.151eV  Ekin = 0.041eV (T=315K)  Etot = -693.110eV\n",
            "Energy per atom: Epot = -693.181eV  Ekin = 0.068eV (T=528K)  Etot = -693.113eV\n",
            "Energy per atom: Epot = -693.176eV  Ekin = 0.063eV (T=486K)  Etot = -693.114eV\n",
            "Energy per atom: Epot = -693.142eV  Ekin = 0.033eV (T=255K)  Etot = -693.109eV\n",
            "Energy per atom: Epot = -693.130eV  Ekin = 0.018eV (T=140K)  Etot = -693.112eV\n",
            "Energy per atom: Epot = -693.111eV  Ekin = 0.003eV (T= 20K)  Etot = -693.108eV\n",
            "Energy per atom: Epot = -693.131eV  Ekin = 0.021eV (T=164K)  Etot = -693.110eV\n",
            "Energy per atom: Epot = -693.167eV  Ekin = 0.053eV (T=407K)  Etot = -693.114eV\n",
            "Energy per atom: Epot = -693.171eV  Ekin = 0.061eV (T=470K)  Etot = -693.110eV\n",
            "Energy per atom: Epot = -693.177eV  Ekin = 0.063eV (T=490K)  Etot = -693.114eV\n",
            "Energy per atom: Epot = -693.146eV  Ekin = 0.034eV (T=266K)  Etot = -693.111eV\n",
            "Energy per atom: Epot = -693.114eV  Ekin = 0.006eV (T= 48K)  Etot = -693.108eV\n",
            "Energy per atom: Epot = -693.123eV  Ekin = 0.012eV (T= 92K)  Etot = -693.111eV\n",
            "Energy per atom: Epot = -693.137eV  Ekin = 0.026eV (T=203K)  Etot = -693.110eV\n",
            "Energy per atom: Epot = -693.162eV  Ekin = 0.051eV (T=397K)  Etot = -693.111eV\n",
            "Energy per atom: Epot = -693.184eV  Ekin = 0.070eV (T=545K)  Etot = -693.114eV\n",
            "Energy per atom: Epot = -693.161eV  Ekin = 0.050eV (T=387K)  Etot = -693.111eV\n",
            "Energy per atom: Epot = -693.137eV  Ekin = 0.028eV (T=215K)  Etot = -693.109eV\n",
            "Energy per atom: Epot = -693.129eV  Ekin = 0.016eV (T=122K)  Etot = -693.113eV\n",
            "Energy per atom: Epot = -693.108eV  Ekin = 0.003eV (T= 24K)  Etot = -693.105eV\n",
            "Energy per atom: Epot = -693.149eV  Ekin = 0.036eV (T=275K)  Etot = -693.114eV\n",
            "Energy per atom: Epot = -693.166eV  Ekin = 0.054eV (T=419K)  Etot = -693.112eV\n",
            "Energy per atom: Epot = -693.168eV  Ekin = 0.058eV (T=450K)  Etot = -693.110eV\n",
            "Energy per atom: Epot = -693.173eV  Ekin = 0.059eV (T=456K)  Etot = -693.114eV\n",
            "Energy per atom: Epot = -693.137eV  Ekin = 0.026eV (T=201K)  Etot = -693.110eV\n",
            "Energy per atom: Epot = -693.111eV  Ekin = 0.004eV (T= 29K)  Etot = -693.108eV\n",
            "Energy per atom: Epot = -693.131eV  Ekin = 0.019eV (T=148K)  Etot = -693.112eV\n",
            "Energy per atom: Epot = -693.144eV  Ekin = 0.034eV (T=261K)  Etot = -693.110eV\n",
            "Energy per atom: Epot = -693.167eV  Ekin = 0.056eV (T=435K)  Etot = -693.111eV\n",
            "Energy per atom: Epot = -693.184eV  Ekin = 0.069eV (T=537K)  Etot = -693.115eV\n",
            "Energy per atom: Epot = -693.152eV  Ekin = 0.043eV (T=330K)  Etot = -693.110eV\n",
            "Energy per atom: Epot = -693.133eV  Ekin = 0.022eV (T=171K)  Etot = -693.111eV\n",
            "Energy per atom: Epot = -693.119eV  Ekin = 0.008eV (T= 65K)  Etot = -693.110eV\n",
            "Energy per atom: Epot = -693.118eV  Ekin = 0.010eV (T= 76K)  Etot = -693.108eV\n",
            "Energy per atom: Epot = -693.156eV  Ekin = 0.043eV (T=335K)  Etot = -693.113eV\n",
            "Energy per atom: Epot = -693.171eV  Ekin = 0.060eV (T=461K)  Etot = -693.112eV\n",
            "Energy per atom: Epot = -693.175eV  Ekin = 0.064eV (T=494K)  Etot = -693.112eV\n",
            "Energy per atom: Epot = -693.163eV  Ekin = 0.050eV (T=385K)  Etot = -693.114eV\n",
            "Energy per atom: Epot = -693.119eV  Ekin = 0.012eV (T= 96K)  Etot = -693.107eV\n",
            "Energy per atom: Epot = -693.115eV  Ekin = 0.005eV (T= 42K)  Etot = -693.109eV\n",
            "Energy per atom: Epot = -693.131eV  Ekin = 0.020eV (T=157K)  Etot = -693.110eV\n",
            "Energy per atom: Epot = -693.149eV  Ekin = 0.039eV (T=302K)  Etot = -693.110eV\n",
            "Energy per atom: Epot = -693.180eV  Ekin = 0.067eV (T=515K)  Etot = -693.113eV\n",
            "Energy per atom: Epot = -693.179eV  Ekin = 0.065eV (T=504K)  Etot = -693.114eV\n",
            "Energy per atom: Epot = -693.143eV  Ekin = 0.034eV (T=264K)  Etot = -693.109eV\n",
            "Energy per atom: Epot = -693.131eV  Ekin = 0.019eV (T=150K)  Etot = -693.112eV\n",
            "Energy per atom: Epot = -693.115eV  Ekin = 0.005eV (T= 41K)  Etot = -693.110eV\n",
            "Energy per atom: Epot = -693.126eV  Ekin = 0.017eV (T=133K)  Etot = -693.109eV\n",
            "Energy per atom: Epot = -693.165eV  Ekin = 0.051eV (T=395K)  Etot = -693.114eV\n",
            "Energy per atom: Epot = -693.170eV  Ekin = 0.059eV (T=457K)  Etot = -693.111eV\n",
            "Energy per atom: Epot = -693.173eV  Ekin = 0.060eV (T=468K)  Etot = -693.113eV\n",
            "Energy per atom: Epot = -693.153eV  Ekin = 0.040eV (T=313K)  Etot = -693.113eV\n",
            "Energy per atom: Epot = -693.117eV  Ekin = 0.009eV (T= 71K)  Etot = -693.108eV\n",
            "Energy per atom: Epot = -693.120eV  Ekin = 0.010eV (T= 77K)  Etot = -693.110eV\n",
            "Energy per atom: Epot = -693.139eV  Ekin = 0.028eV (T=215K)  Etot = -693.111eV\n",
            "Energy per atom: Epot = -693.160eV  Ekin = 0.049eV (T=380K)  Etot = -693.111eV\n",
            "Energy per atom: Epot = -693.179eV  Ekin = 0.066eV (T=512K)  Etot = -693.113eV\n",
            "Energy per atom: Epot = -693.166eV  Ekin = 0.054eV (T=419K)  Etot = -693.112eV\n",
            "Energy per atom: Epot = -693.138eV  Ekin = 0.029eV (T=224K)  Etot = -693.109eV\n",
            "Energy per atom: Epot = -693.127eV  Ekin = 0.015eV (T=115K)  Etot = -693.112eV\n",
            "Energy per atom: Epot = -693.111eV  Ekin = 0.005eV (T= 38K)  Etot = -693.106eV\n",
            "Energy per atom: Epot = -693.144eV  Ekin = 0.032eV (T=248K)  Etot = -693.112eV\n",
            "Energy per atom: Epot = -693.165eV  Ekin = 0.053eV (T=411K)  Etot = -693.112eV\n",
            "Energy per atom: Epot = -693.171eV  Ekin = 0.060eV (T=468K)  Etot = -693.110eV\n",
            "Energy per atom: Epot = -693.175eV  Ekin = 0.060eV (T=468K)  Etot = -693.114eV\n",
            "Energy per atom: Epot = -693.136eV  Ekin = 0.026eV (T=203K)  Etot = -693.110eV\n",
            "Energy per atom: Epot = -693.113eV  Ekin = 0.004eV (T= 34K)  Etot = -693.108eV\n",
            "Energy per atom: Epot = -693.127eV  Ekin = 0.016eV (T=122K)  Etot = -693.111eV\n",
            "Energy per atom: Epot = -693.141eV  Ekin = 0.031eV (T=238K)  Etot = -693.110eV\n",
            "Energy per atom: Epot = -693.167eV  Ekin = 0.056eV (T=436K)  Etot = -693.111eV\n",
            "Energy per atom: Epot = -693.187eV  Ekin = 0.072eV (T=555K)  Etot = -693.115eV\n",
            "Energy per atom: Epot = -693.154eV  Ekin = 0.045eV (T=348K)  Etot = -693.110eV\n",
            "Energy per atom: Epot = -693.134eV  Ekin = 0.023eV (T=181K)  Etot = -693.111eV\n",
            "Energy per atom: Epot = -693.120eV  Ekin = 0.009eV (T= 70K)  Etot = -693.111eV\n",
            "Energy per atom: Epot = -693.114eV  Ekin = 0.007eV (T= 55K)  Etot = -693.107eV\n"
          ],
          "name": "stdout"
        },
        {
          "output_type": "execute_result",
          "data": {
            "text/plain": [
              "True"
            ]
          },
          "metadata": {
            "tags": []
          },
          "execution_count": 14
        }
      ]
    },
    {
      "cell_type": "code",
      "metadata": {
        "id": "LYMJAAdhoyQW",
        "colab_type": "code",
        "colab": {
          "base_uri": "https://localhost:8080/",
          "height": 51
        },
        "outputId": "6d0c30f8-f059-4bce-bfef-e7c90afe2be2"
      },
      "source": [
        "import numpy as np\n",
        "amp_md = read('amp.traj', index=':')\n",
        "amp_positions = []\n",
        "for i in range(len(amp_md)):\n",
        "    amp_positions.append(amp_md[i].get_positions())\n",
        "amp_positions = np.array(amp_positions)\n",
        "print(amp_positions.shape)\n",
        "\n",
        "dft_md = read('emt.traj', index=':')\n",
        "dft_positions = []\n",
        "for i in range(len(dft_md)):\n",
        "    dft_positions.append(dft_md[i].get_positions())\n",
        "dft_positions = np.array(dft_positions)\n",
        "print(dft_positions.shape)"
      ],
      "execution_count": 24,
      "outputs": [
        {
          "output_type": "stream",
          "text": [
            "(101, 3, 3)\n",
            "(101, 3, 3)\n"
          ],
          "name": "stdout"
        }
      ]
    },
    {
      "cell_type": "code",
      "metadata": {
        "id": "pa7HDGm1pJcF",
        "colab_type": "code",
        "colab": {
          "base_uri": "https://localhost:8080/",
          "height": 287
        },
        "outputId": "636e76ea-f471-4fd5-8763-a61186ce870b"
      },
      "source": [
        "%matplotlib inline\n",
        "import matplotlib.pyplot as plt\n",
        "labels = np.array([['O_x', 'O_y', 'O_z'], ['H1_x', 'H1_y', 'H1_z'], ['H2_x', 'H2_y', 'H2,z']])\n",
        "for i in range(3):\n",
        "    for j in range(3):\n",
        "        if j == 0:\n",
        "            plt.scatter(dft_positions[:,i,j], -amp_positions[:,i,j], label=labels[i,j])\n",
        "        else:\n",
        "            plt.scatter(dft_positions[:,i,j], amp_positions[:,i,j], label=labels[i,j])\n",
        "plt.xlabel('DFT Positions', fontsize=14)\n",
        "plt.ylabel('Amp Positions', fontsize=14)\n",
        "plt.legend()\n",
        "plt.show()"
      ],
      "execution_count": 25,
      "outputs": [
        {
          "output_type": "display_data",
          "data": {
            "image/png": "[encoded data removed]",
            "text/plain": [
              "<Figure size 432x288 with 1 Axes>"
            ]
          },
          "metadata": {
            "tags": []
          }
        }
      ]
    }
  ]
}