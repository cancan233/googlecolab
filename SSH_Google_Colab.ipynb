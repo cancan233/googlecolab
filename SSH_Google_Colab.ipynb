{
 "cells": [
  {
   "cell_type": "markdown",
   "metadata": {},
   "source": [
    "## Check GPU information"
   ]
  },
  {
   "cell_type": "code",
   "execution_count": null,
   "metadata": {},
   "outputs": [],
   "source": [
    "!nvidia-smi\n",
    "!/usr/local/cuda/bin/nvcc --version"
   ]
  },
  {
   "cell_type": "markdown",
   "metadata": {},
   "source": [
    "## Create ngrok tunnel\n",
    "At the end of the output, you will see the root password and public address. You could ssh to your VM using following command:\n",
    "```bash\n",
    "ssh root@0.tcp.ngrok.io -p <port-number>\n",
    "```\n",
    "Then you will be required to enter the password, which is the one you generate before."
   ]
  },
  {
   "cell_type": "code",
   "execution_count": null,
   "metadata": {},
   "outputs": [],
   "source": [
    "import random, string\n",
    "password = ''.join(random.choice(string.ascii_letters + string.digits) for i in range(20))\n",
    "#Download ngrok\n",
    "!wget -q -c -nc https://bin.equinox.io/c/4VmDzA7iaHb/ngrok-stable-linux-amd64.zip\n",
    "!unzip -qq -n ngrok-stable-linux-amd64.zip\n",
    "#Setup sshd\n",
    "!apt-get install -qq -o=Dpkg::Use-Pty=0 openssh-server pwgen > /dev/null\n",
    "#Set root password\n",
    "!echo root:$password | chpasswd\n",
    "!mkdir -p /var/run/sshd\n",
    "!echo \"PermitRootLogin yes\" >> /etc/ssh/sshd_config\n",
    "!echo \"PasswordAuthentication yes\" >> /etc/ssh/sshd_config\n",
    "!echo \"LD_LIBRARY_PATH=/usr/lib64-nvidia\" >> /root/.bashrc\n",
    "!echo \"export LD_LIBRARY_PATH\" >> /root/.bashrc\n",
    "#Run sshd\n",
    "get_ipython().system_raw('/usr/sbin/sshd -D &')\n",
    "#Ask token\n",
    "print(\"Copy authtoken from https://dashboard.ngrok.com/auth\")\n",
    "import getpass\n",
    "authtoken = getpass.getpass()\n",
    "#Create tunnel\n",
    "get_ipython().system_raw('./ngrok authtoken $authtoken && ./ngrok tcp 22 &')\n",
    "#Print root password\n",
    "print(\"Login Information for SSH\")\n",
    "print(\"Root password: {}\".format(password))\n",
    "!curl -s http://localhost:4040/api/tunnels | python3 -c \"import sys, json; print(json.load(sys.stdin)['tunnels'][0]['public_url'])\""
   ]
  }
 ],
 "metadata": {
  "kernelspec": {
   "display_name": "Python 3",
   "language": "python",
   "name": "python3"
  },
  "language_info": {
   "codemirror_mode": {
    "name": "ipython",
    "version": 3
   },
   "file_extension": ".py",
   "mimetype": "text/x-python",
   "name": "python",
   "nbconvert_exporter": "python",
   "pygments_lexer": "ipython3",
   "version": "3.7.4"
  }
 },
 "nbformat": 4,
 "nbformat_minor": 2
}
