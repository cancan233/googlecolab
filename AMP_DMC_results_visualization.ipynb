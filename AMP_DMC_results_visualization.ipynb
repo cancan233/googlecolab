{
  "nbformat": 4,
  "nbformat_minor": 0,
  "metadata": {
    "colab": {
      "name": "AMP-DMC results visualization.ipynb",
      "provenance": [],
      "mount_file_id": "1tqfkOnNk70ClEREn2J47MZxRsMcKSHVW",
      "authorship_tag": "ABX9TyPNuL6UABJvch3gu8BxHTp2",
      "include_colab_link": true
    },
    "kernelspec": {
      "name": "python3",
      "display_name": "Python 3"
    }
  },
  "cells": [
    {
      "cell_type": "markdown",
      "metadata": {
        "id": "view-in-github",
        "colab_type": "text"
      },
      "source": [
        "<a href=\"https://colab.research.google.com/github/cancan233/googlecolab/blob/master/AMP_DMC_results_visualization.ipynb\" target=\"_parent\"><img src=\"https://colab.research.google.com/assets/colab-badge.svg\" alt=\"Open In Colab\"/></a>"
      ]
    },
    {
      "cell_type": "code",
      "metadata": {
        "id": "zvsFo0U7HeLq",
        "colab": {
          "base_uri": "https://localhost:8080/"
        },
        "outputId": "793f124a-dd0e-402d-f987-a29f4d1b404b"
      },
      "source": [
        "!pip install ase\n",
        "\n",
        "import matplotlib.pyplot as plt\n",
        "%matplotlib inline\n",
        "from ase.io.trajectory import TrajectoryReader as tr"
      ],
      "execution_count": null,
      "outputs": [
        {
          "output_type": "stream",
          "text": [
            "Collecting ase\n",
            "\u001b[?25l  Downloading https://files.pythonhosted.org/packages/51/78/edadb45c7f26f8fbb99da81feadb561c26bb0393b6c5d1ac200ecdc12d61/ase-3.20.1-py3-none-any.whl (2.2MB)\n",
            "\u001b[K     |████████████████████████████████| 2.2MB 5.4MB/s \n",
            "\u001b[?25hRequirement already satisfied: matplotlib>=2.0.0 in /usr/local/lib/python3.6/dist-packages (from ase) (3.2.2)\n",
            "Requirement already satisfied: scipy>=0.18.1 in /usr/local/lib/python3.6/dist-packages (from ase) (1.4.1)\n",
            "Requirement already satisfied: numpy>=1.11.3 in /usr/local/lib/python3.6/dist-packages (from ase) (1.19.4)\n",
            "Requirement already satisfied: kiwisolver>=1.0.1 in /usr/local/lib/python3.6/dist-packages (from matplotlib>=2.0.0->ase) (1.3.1)\n",
            "Requirement already satisfied: pyparsing!=2.0.4,!=2.1.2,!=2.1.6,>=2.0.1 in /usr/local/lib/python3.6/dist-packages (from matplotlib>=2.0.0->ase) (2.4.7)\n",
            "Requirement already satisfied: python-dateutil>=2.1 in /usr/local/lib/python3.6/dist-packages (from matplotlib>=2.0.0->ase) (2.8.1)\n",
            "Requirement already satisfied: cycler>=0.10 in /usr/local/lib/python3.6/dist-packages (from matplotlib>=2.0.0->ase) (0.10.0)\n",
            "Requirement already satisfied: six>=1.5 in /usr/local/lib/python3.6/dist-packages (from python-dateutil>=2.1->matplotlib>=2.0.0->ase) (1.15.0)\n",
            "Installing collected packages: ase\n",
            "Successfully installed ase-3.20.1\n"
          ],
          "name": "stdout"
        }
      ]
    },
    {
      "cell_type": "code",
      "metadata": {
        "id": "0gsfB4BjHxbq",
        "colab": {
          "base_uri": "https://localhost:8080/"
        },
        "outputId": "f9f0b551-2b37-4e3b-b6c4-053983038cf3"
      },
      "source": [
        "%cd /content/drive/MyDrive/CCV_DATA_BACKUP/github_backup/ml_qmc_force/examples/"
      ],
      "execution_count": null,
      "outputs": [
        {
          "output_type": "stream",
          "text": [
            "/content/drive/MyDrive/CCV_DATA_BACKUP/github_backup/ml_qmc_force/examples/H2O\n"
          ],
          "name": "stdout"
        }
      ]
    },
    {
      "cell_type": "markdown",
      "metadata": {
        "id": "txe2HVkjWkjw"
      },
      "source": [
        "## H2O Results Visualization\n"
      ]
    },
    {
      "cell_type": "markdown",
      "metadata": {
        "id": "xWmKsqNaXB4E"
      },
      "source": [
        "### H2O Energy curves comparison among DFT, DMC, AMP-DFT, AMP-DMC\n"
      ]
    },
    {
      "cell_type": "markdown",
      "metadata": {
        "id": "iLChFJ-6XMRl"
      },
      "source": [
        "#### Energy(eV) -- H-O bond distance (Ang)"
      ]
    },
    {
      "cell_type": "code",
      "metadata": {
        "id": "PONAFacaHz1C"
      },
      "source": [
        "dft = tr('./DFT/1000_wide.traj')\n",
        "dmc = tr('./DMC/1000.traj')\n",
        "amp_dmc = tr('./AMP-DMC/amp_wide_training.traj')"
      ],
      "execution_count": null,
      "outputs": []
    },
    {
      "cell_type": "code",
      "metadata": {
        "id": "0Vt2wtHILX0b"
      },
      "source": [
        "! ./AMP-DMC/md_1500/geom_20201221030451.png"
      ],
      "execution_count": null,
      "outputs": []
    },
    {
      "cell_type": "code",
      "metadata": {
        "id": "b8pt15UuKHDI"
      },
      "source": [
        "import numpy as np\n",
        "\n",
        "dft_energies, dmc_energies, amp_dmc_energies = np.zeros(len(dft)), np.zeros(len(dft)), np.zeros(len(dft)) \n",
        "\n",
        "for i in range(len(dft)):\n",
        "    dft_energies[i] = dft[i].get_potential_energy()\n",
        "    dmc_energies[i] = dmc[i].get_potential_energy()\n",
        "    amp_dmc_energies[i] = amp_dmc[i].get_potential_energy()"
      ],
      "execution_count": null,
      "outputs": []
    },
    {
      "cell_type": "code",
      "metadata": {
        "id": "WMlDLTKYKcoC"
      },
      "source": [
        "plt.figure(figsize=(20,10))\n",
        "\n",
        "plt.plot(range(len(dft)), dft_energies, label='dft')\n",
        "plt.plot(range(len(dft)), dmc_energies, label='dmc')\n",
        "plt.plot(range(len(dft)), amp_dmc_energies, label='amp-dmc')\n",
        "\n",
        "plt.xlabel('number', fontsize=18)\n",
        "plt.ylabel('energy', fontsize=18)\n",
        "plt.legend(fontsize=18)\n",
        "plt.show()"
      ],
      "execution_count": null,
      "outputs": []
    },
    {
      "cell_type": "code",
      "metadata": {
        "id": "Oaqs8Q6pLUnn"
      },
      "source": [
        ""
      ],
      "execution_count": null,
      "outputs": []
    }
  ]
}